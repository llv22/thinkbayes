{
 "cells": [
  {
   "cell_type": "code",
   "execution_count": 1,
   "metadata": {},
   "outputs": [],
   "source": [
    "import sys\n",
    "sys.path.append(\"../library\")"
   ]
  },
  {
   "cell_type": "code",
   "execution_count": 2,
   "metadata": {},
   "outputs": [],
   "source": [
    "from __future__ import print_function, division\n",
    "\"\"\"This file contains a partial solution to a problem from\n",
    "MacKay, \"Information Theory, Inference, and Learning Algorithms.\"\n",
    "    Exercise 3.15 (page 50): A statistical statement appeared in\n",
    "    \"The Guardian\" on Friday January 4, 2002:\n",
    "        When spun on edge 250 times, a Belgian one-euro coin came\n",
    "        up heads 140 times and tails 110.  'It looks very suspicious\n",
    "        to me,' said Barry Blight, a statistics lecturer at the London\n",
    "        School of Economics.  'If the coin were unbiased, the chance of\n",
    "        getting a result as extreme as that would be less than 7%.'\n",
    "MacKay asks, \"But do these data give evidence that the coin is biased\n",
    "rather than fair?\"\n",
    "\n",
    "\"\"\"\n",
    "import scipy\n",
    "import pandas as pd\n",
    "import math\n",
    "import random\n",
    "import numpy as np\n",
    "from thinkbayes2 import Suite\n",
    "import matplotlib.pyplot as plt\n",
    "import thinkplot"
   ]
  },
  {
   "cell_type": "markdown",
   "metadata": {},
   "source": [
    "# Hypothesis from data\n",
    "refer to https://github.com/AllenDowney/ThinkBayes2/blob/master/code/euro2.py"
   ]
  },
  {
   "cell_type": "code",
   "execution_count": 3,
   "metadata": {},
   "outputs": [],
   "source": [
    "class Euro(Suite):\n",
    "    \"\"\"Represents hypotheses about the probability of heads.\"\"\"\n",
    "\n",
    "    def Likelihood(self, data, hypo):\n",
    "        \"\"\"Computes the likelihood of the data under the hypothesis.\n",
    "        hypo: integer value of x, the probability of heads (0-100)\n",
    "        data: string 'H' or 'T'\n",
    "        \"\"\"\n",
    "        x = hypo / 100.0\n",
    "        if data == 'H':\n",
    "            return x\n",
    "        else:\n",
    "            return 1-x"
   ]
  },
  {
   "cell_type": "code",
   "execution_count": 4,
   "metadata": {},
   "outputs": [],
   "source": [
    "class Euro2(Suite):\n",
    "    \"\"\"Represents hypotheses about the probability of heads.\"\"\"\n",
    "\n",
    "    def Likelihood(self, data, hypo):\n",
    "        \"\"\"Computes the likelihood of the data under the hypothesis.\n",
    "        hypo: integer value of x, the probability of heads (0-100)\n",
    "        data: tuple of (number of heads, number of tails)\n",
    "        \"\"\"\n",
    "        x = hypo / 100.0\n",
    "        heads, tails = data\n",
    "        like = x**heads * (1-x)**tails\n",
    "        return like"
   ]
  },
  {
   "cell_type": "code",
   "execution_count": 5,
   "metadata": {},
   "outputs": [],
   "source": [
    "def Version1():\n",
    "    suite = Euro(range(101))\n",
    "    heads, tails = 140, 110\n",
    "    dataset = 'H' * heads + 'T' * tails\n",
    "    for data in dataset:\n",
    "        suite.Update(data)\n",
    "    return suite"
   ]
  },
  {
   "cell_type": "code",
   "execution_count": 6,
   "metadata": {},
   "outputs": [],
   "source": [
    "def Version2():\n",
    "    suite = Euro(range(101))\n",
    "    heads, tails = 140, 110\n",
    "    dataset = 'H' * heads + 'T' * tails\n",
    "    suite.UpdateSet(data)\n",
    "    return suite"
   ]
  },
  {
   "cell_type": "code",
   "execution_count": 7,
   "metadata": {},
   "outputs": [],
   "source": [
    "def Version3():\n",
    "    suite = Euro2(range(101))\n",
    "    heads, tails = 140, 110\n",
    "    suite.Update((heads, tails))\n",
    "    return suite"
   ]
  },
  {
   "cell_type": "code",
   "execution_count": 8,
   "metadata": {},
   "outputs": [
    {
     "name": "stdout",
     "output_type": "stream",
     "text": [
      "suite mean : 55.95238095238096\n"
     ]
    },
    {
     "data": {
      "image/png": "[encoded data removed]",
      "text/plain": [
       "<Figure size 432x288 with 1 Axes>"
      ]
     },
     "metadata": {},
     "output_type": "display_data"
    }
   ],
   "source": [
    "# analysis from data with true percentage\n",
    "suite = Version3()\n",
    "print(\"suite mean :\", suite.Mean())\n",
    "thinkplot.Pdf(suite)\n",
    "thinkplot.Show(legend=False)"
   ]
  },
  {
   "cell_type": "markdown",
   "metadata": {},
   "source": [
    "# Fair analysis without 50% in hypothesis"
   ]
  },
  {
   "cell_type": "code",
   "execution_count": 9,
   "metadata": {},
   "outputs": [],
   "source": [
    "b_uniform = Euro(range(101))\n",
    "b_uniform.Remove(50)\n",
    "b_uniform.Normalize()\n",
    "# heads, tails experiment setting\n",
    "heads, tails = 140, 110"
   ]
  },
  {
   "cell_type": "code",
   "execution_count": 10,
   "metadata": {},
   "outputs": [],
   "source": [
    "def SuiteLikelihood(suite, data):\n",
    "    total = 0\n",
    "    for hypo, prob in suite.Items():\n",
    "#         print(hypo, prob)\n",
    "        like = suite.Likelihood(data, hypo)\n",
    "#         print(like)\n",
    "        total += prob * like\n",
    "    return total"
   ]
  },
  {
   "cell_type": "code",
   "execution_count": 11,
   "metadata": {},
   "outputs": [
    {
     "name": "stdout",
     "output_type": "stream",
     "text": [
      "fair likelihood: 5.527147875260445e-76\n"
     ]
    }
   ],
   "source": [
    "suite_fair = Euro2(range(101))\n",
    "fair_likelihood = suite_fair.Likelihood((heads, tails), 50)\n",
    "print(\"fair likelihood:\", fair_likelihood)"
   ]
  },
  {
   "cell_type": "code",
   "execution_count": 12,
   "metadata": {},
   "outputs": [
    {
     "name": "stdout",
     "output_type": "stream",
     "text": [
      "b uniform probability: 2.6088321798736822e-76\n",
      "b uniform likelihood: 2.6088321798736822e-76\n"
     ]
    }
   ],
   "source": [
    "suite = Euro2(range(101))\n",
    "b_uniform_likelihood = SuiteLikelihood(suite, (heads, tails))\n",
    "print(\"b uniform probability:\", b_uniform_likelihood)\n",
    "likelihood = suite.Update((heads, tails))\n",
    "print(\"b uniform likelihood:\", likelihood)"
   ]
  },
  {
   "cell_type": "code",
   "execution_count": 13,
   "metadata": {},
   "outputs": [
    {
     "name": "stdout",
     "output_type": "stream",
     "text": [
      "likelihood ratio P(D|B)/P(D|F): 0.47200332590174304\n"
     ]
    }
   ],
   "source": [
    "print(\"likelihood ratio P(D|B)/P(D|F):\", likelihood/fair_likelihood)"
   ]
  }
 ],
 "metadata": {
  "kernelspec": {
   "display_name": "Python 3",
   "language": "python",
   "name": "python3"
  },
  "language_info": {
   "codemirror_mode": {
    "name": "ipython",
    "version": 3
   },
   "file_extension": ".py",
   "mimetype": "text/x-python",
   "name": "python",
   "nbconvert_exporter": "python",
   "pygments_lexer": "ipython3",
   "version": "3.6.5"
  }
 },
 "nbformat": 4,
 "nbformat_minor": 2
}
