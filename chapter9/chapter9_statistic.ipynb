{
 "cells": [
  {
   "cell_type": "code",
   "execution_count": null,
   "metadata": {},
   "outputs": [],
   "source": [
    "import sys\n",
    "sys.path.append(\"../library\")"
   ]
  },
  {
   "cell_type": "code",
   "execution_count": null,
   "metadata": {},
   "outputs": [],
   "source": [
    "from __future__ import print_function, division\n",
    "import scipy\n",
    "import pandas as pd\n",
    "import math\n",
    "import numpy as np\n",
    "from thinkbayes2 import Suite, Joint, Pmf\n",
    "import matplotlib.pyplot as plt\n",
    "import thinkplot"
   ]
  },
  {
   "cell_type": "code",
   "execution_count": null,
   "metadata": {},
   "outputs": [],
   "source": [
    "class Paintball(Suite, Joint):\n",
    "    \"\"\"\n",
    "    Paint ball for estimation of probablity of shooter position (alpha, beta)\n",
    "    \"\"\"\n",
    "    def __init__(self, alphas, betas, locations):\n",
    "        \"\"\"\n",
    "        based on possible tuple (alpha, beta, location) to estimate probablity.\n",
    "        \"\"\"\n",
    "        self.locations = locations\n",
    "        pairs = [(alpha, beta) for alpha in alphas for beta in betas]\n",
    "        super().__init__(pairs)"
   ]
  },
  {
   "cell_type": "code",
   "execution_count": null,
   "metadata": {},
   "outputs": [],
   "source": [
    "def StrafingSpeed(alpha, beta, x):\n",
    "    \"\"\"\n",
    "    P((beta, alpha)) * speed = 1, then we can estimate P((beta, alpha)).\n",
    "    \"\"\"\n",
    "    theta = math.atan2(x - alpha, beta)\n",
    "#     print(theta)\n",
    "    speed = beta / math.cos(theta) ** 2\n",
    "    return speed"
   ]
  },
  {
   "cell_type": "code",
   "execution_count": null,
   "metadata": {},
   "outputs": [],
   "source": [
    "def MakeLocationPmf(alpha, beta, locations):\n",
    "    \"\"\"\n",
    "    generate pmf for (beta, alpha)\n",
    "    \"\"\"\n",
    "    pmf = Pmf()\n",
    "    for x in locations:\n",
    "#         print(alpha, beta, x)\n",
    "        # need to guarantee beta != 0 \n",
    "        prob = 1.0 / StrafingSpeed(alpha, beta, x)\n",
    "        pmf.Set(x, prob)\n",
    "    pmf.Normalize()\n",
    "    return pmf"
   ]
  },
  {
   "cell_type": "code",
   "execution_count": null,
   "metadata": {},
   "outputs": [],
   "source": [
    "alphas = range(31)\n",
    "betas = range(1, 51)\n",
    "locations = range(31)"
   ]
  },
  {
   "cell_type": "code",
   "execution_count": null,
   "metadata": {},
   "outputs": [],
   "source": [
    "# set alpha = 10, we check betas=range(30) pmf probability\n",
    "# thinkplot for visualization\n",
    "thinkplot.Clf()\n",
    "thinkplot.PrePlot(num=2)\n",
    "\n",
    "alpha = 10\n",
    "betas = range(1, 31)\n",
    "for beta in betas:\n",
    "    pmf = MakeLocationPmf(alpha, beta, locations)\n",
    "    thinkplot.Plot(pmf, label='beta={}'.format(beta), color='C{}'.format(beta+1))\n",
    "plt.leged()\n",
    "plt.show()"
   ]
  }
 ],
 "metadata": {
  "kernelspec": {
   "display_name": "Python 3",
   "language": "python",
   "name": "python3"
  }
 },
 "nbformat": 4,
 "nbformat_minor": 2
}
