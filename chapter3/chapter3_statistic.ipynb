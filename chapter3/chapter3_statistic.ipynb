{
 "cells": [
  {
   "cell_type": "code",
   "execution_count": 1,
   "metadata": {},
   "outputs": [],
   "source": [
    "import sys\n",
    "sys.path.append(\"../library\")"
   ]
  },
  {
   "cell_type": "code",
   "execution_count": 2,
   "metadata": {},
   "outputs": [],
   "source": [
    "from __future__ import print_function\n",
    "from thinkbayes2 import Suite\n",
    "import thinkplot"
   ]
  },
  {
   "cell_type": "code",
   "execution_count": 3,
   "metadata": {},
   "outputs": [],
   "source": [
    "# dice puzzle: based on sampling result of dice, to get the most possible dice\n",
    "class Dice(Suite):\n",
    "    def Likelihood(self, data, hypo):\n",
    "        if hypo < data:\n",
    "#             impossible for dice 'hypo' throw out number 'data'\n",
    "            return 0\n",
    "        else:\n",
    "            return 1.0 / hypo"
   ]
  },
  {
   "cell_type": "code",
   "execution_count": 4,
   "metadata": {},
   "outputs": [
    {
     "name": "stdout",
     "output_type": "stream",
     "text": [
      "4 0.0\n",
      "6 0.3921568627450981\n",
      "8 0.29411764705882354\n",
      "12 0.19607843137254904\n",
      "20 0.11764705882352944\n"
     ]
    }
   ],
   "source": [
    "suite = Dice([4, 6, 8, 12, 20])\n",
    "suite.Update(6)\n",
    "suite.Print()"
   ]
  },
  {
   "cell_type": "code",
   "execution_count": 5,
   "metadata": {},
   "outputs": [
    {
     "name": "stdout",
     "output_type": "stream",
     "text": [
      "4 0.0\n",
      "6 0.0\n",
      "8 0.91584527196901\n",
      "12 0.08040342579700496\n",
      "20 0.0037513022339850668\n"
     ]
    }
   ],
   "source": [
    "suite = Dice([4, 6, 8, 12, 20])\n",
    "suite.UpdateSet([6, 8, 7, 7, 5, 4])\n",
    "suite.Print()"
   ]
  },
  {
   "cell_type": "code",
   "execution_count": 6,
   "metadata": {},
   "outputs": [],
   "source": [
    "# locomotive problem from Freadrick Mosteller's fifty challenging problems in probablity with solution (Dover, 1987)\n",
    "class Train(Suite):\n",
    "    def Likelihood(self, data, hypo):\n",
    "        if hypo < data:\n",
    "            return 0\n",
    "        else:\n",
    "            return 1.0 / hypo"
   ]
  },
  {
   "cell_type": "code",
   "execution_count": 9,
   "metadata": {},
   "outputs": [
    {
     "name": "stdout",
     "output_type": "stream",
     "text": [
      "333.41989326371095\n"
     ]
    },
    {
     "data": {
      "image/png": "[encoded data removed]",
      "text/plain": [
       "<matplotlib.figure.Figure at 0x11b833160>"
      ]
     },
     "metadata": {},
     "output_type": "display_data"
    }
   ],
   "source": [
    "N=1000\n",
    "hypos=range(1, 1+N)\n",
    "suite=Train(hypos)\n",
    "suite.Update(60)\n",
    "# suite.Print()\n",
    "print(suite.Mean())\n",
    "# refer to https://github.com/AllenDowney/ThinkBayes2/blob/master/code/train.py\n",
    "thinkplot.PrePlot(1)\n",
    "thinkplot.Pmf(suite)\n",
    "# alternative: to save as pdf\n",
    "# thinkplot.Save(root='train1',\n",
    "#                xlabel='Number of trains',\n",
    "#                ylabel='Probability',\n",
    "#                formats=['pdf'])"
   ]
  },
  {
   "cell_type": "code",
   "execution_count": 16,
   "metadata": {},
   "outputs": [],
   "source": [
    "# Prior with power law\n",
    "class Train2(Dice):\n",
    "    def __init__(self, hypos, alpha = 1.0):\n",
    "        super().__init__(self)\n",
    "        for hypo in hypos:\n",
    "            self.Set(hypo, hypo ** (-alpha))\n",
    "        self.Normalize()"
   ]
  },
  {
   "cell_type": "code",
   "execution_count": 18,
   "metadata": {},
   "outputs": [
    {
     "name": "stdout",
     "output_type": "stream",
     "text": [
      "178.54735317971574\n"
     ]
    },
    {
     "data": {
      "image/png": "[encoded data removed]",
      "text/plain": [
       "<matplotlib.figure.Figure at 0x11f619cc0>"
      ]
     },
     "metadata": {},
     "output_type": "display_data"
    }
   ],
   "source": [
    "N=1000\n",
    "hypos=range(1, 1+N)\n",
    "suite1=Train2(hypos)\n",
    "suite1.Update(60)\n",
    "print(suite1.Mean())\n",
    "thinkplot.PrePlot(1)\n",
    "thinkplot.Pmf(suite)\n",
    "thinkplot.Pmf(suite1)"
   ]
  },
  {
   "cell_type": "code",
   "execution_count": 19,
   "metadata": {},
   "outputs": [],
   "source": [
    "# refer to https://github.com/AllenDowney/ThinkBayes2/blob/master/code/train3.py\n",
    "def MakePosterior(high, dataset, constructor):\n",
    "    \"\"\"Makes and updates a Suite.\n",
    "    high: upper bound on the range of hypotheses\n",
    "    dataset: observed data to use for the update\n",
    "    constructor: function that makes a new suite\n",
    "    Returns: posterior Suite\n",
    "    \"\"\"\n",
    "    hypos = range(1, high+1)\n",
    "    suite = constructor(hypos)\n",
    "    suite.name = str(high)\n",
    "\n",
    "    for data in dataset:\n",
    "        suite.Update(data)\n",
    "\n",
    "    return suite"
   ]
  },
  {
   "cell_type": "code",
   "execution_count": 22,
   "metadata": {},
   "outputs": [],
   "source": [
    "def ComparePriors():\n",
    "    \"\"\"Runs the analysis with two different priors and compares them.\"\"\"\n",
    "    dataset = [60]\n",
    "    high = 1000\n",
    "\n",
    "    thinkplot.Clf()\n",
    "    thinkplot.PrePlot(num=2)\n",
    "\n",
    "    constructors = [Train, Train2]\n",
    "    labels = ['uniform', 'power law']\n",
    "\n",
    "    for constructor, label in zip(constructors, labels):\n",
    "        suite = MakePosterior(high, dataset, constructor)\n",
    "        suite.name = label\n",
    "        thinkplot.Pmf(suite)\n",
    "\n",
    "#     thinkplot.Save(root='train4',\n",
    "#                 xlabel='Number of trains',\n",
    "#                 ylabel='Probability')"
   ]
  },
  {
   "cell_type": "code",
   "execution_count": 25,
   "metadata": {},
   "outputs": [
    {
     "name": "stderr",
     "output_type": "stream",
     "text": [
      "No handles with labels found to put in legend.\n"
     ]
    },
    {
     "name": "stdout",
     "output_type": "stream",
     "text": [
      "Writing train4.pdf\n",
      "Writing train4.eps\n",
      "500 130.70846986256004\n",
      "1000 133.2752313750312\n",
      "2000 133.99746308073065\n"
     ]
    },
    {
     "ename": "NameError",
     "evalue": "name 'pyplot' is not defined",
     "output_type": "error",
     "traceback": [
      "\u001b[0;31m---------------------------------------------------------------------------\u001b[0m",
      "\u001b[0;31mNameError\u001b[0m                                 Traceback (most recent call last)",
      "\u001b[0;32m<ipython-input-25-8d8571ef0e81>\u001b[0m in \u001b[0;36m<module>\u001b[0;34m()\u001b[0m\n\u001b[1;32m      9\u001b[0m     \u001b[0mprint\u001b[0m\u001b[0;34m(\u001b[0m\u001b[0mhigh\u001b[0m\u001b[0;34m,\u001b[0m \u001b[0msuite\u001b[0m\u001b[0;34m.\u001b[0m\u001b[0mMean\u001b[0m\u001b[0;34m(\u001b[0m\u001b[0;34m)\u001b[0m\u001b[0;34m)\u001b[0m\u001b[0;34m\u001b[0m\u001b[0m\n\u001b[1;32m     10\u001b[0m \u001b[0;34m\u001b[0m\u001b[0m\n\u001b[0;32m---> 11\u001b[0;31m \u001b[0mpyplot\u001b[0m\u001b[0;34m.\u001b[0m\u001b[0mshow\u001b[0m\u001b[0;34m(\u001b[0m\u001b[0;34m)\u001b[0m\u001b[0;34m\u001b[0m\u001b[0m\n\u001b[0m",
      "\u001b[0;31mNameError\u001b[0m: name 'pyplot' is not defined"
     ]
    },
    {
     "data": {
      "text/plain": [
       "<matplotlib.figure.Figure at 0x11f9d7710>"
      ]
     },
     "metadata": {},
     "output_type": "display_data"
    }
   ],
   "source": [
    "ComparePriors()\n",
    "dataset = [30, 60, 90]\n",
    "\n",
    "thinkplot.Clf()\n",
    "thinkplot.PrePlot(num=3)\n",
    "\n",
    "for high in [500, 1000, 2000]:\n",
    "    suite = MakePosterior(high, dataset, Train2)\n",
    "    print(high, suite.Mean())"
   ]
  },
  {
   "cell_type": "code",
   "execution_count": null,
   "metadata": {},
   "outputs": [],
   "source": []
  }
 ],
 "metadata": {
  "kernelspec": {
   "display_name": "Python 3",
   "language": "python",
   "name": "python3"
  },
  "language_info": {
   "codemirror_mode": {
    "name": "ipython",
    "version": 3
   },
   "file_extension": ".py",
   "mimetype": "text/x-python",
   "name": "python",
   "nbconvert_exporter": "python",
   "pygments_lexer": "ipython3",
   "version": "3.6.4"
  }
 },
 "nbformat": 4,
 "nbformat_minor": 2
}
