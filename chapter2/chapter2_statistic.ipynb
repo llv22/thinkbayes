{
 "cells": [
  {
   "cell_type": "code",
   "execution_count": 1,
   "metadata": {},
   "outputs": [],
   "source": [
    "# refer to https://stackoverflow.com/questions/4383571/importing-files-from-different-folder, to avoid explicit path\n",
    "import sys\n",
    "sys.path.append('../library')"
   ]
  },
  {
   "cell_type": "code",
   "execution_count": 2,
   "metadata": {},
   "outputs": [],
   "source": [
    "from thinkbayes2 import Pmf\n",
    "# dien sample\n",
    "pmf = Pmf()\n",
    "for x in range(1, 7):\n",
    "    pmf.Set(x, 1/6.0)"
   ]
  },
  {
   "cell_type": "code",
   "execution_count": 3,
   "metadata": {},
   "outputs": [],
   "source": [
    "# # word counting, don't need to download,just using nltk\n",
    "# import requests\n",
    "# url = 'http://www.fullbooks.com/The-Holy-Bible1.html'\n",
    "# r = requests.get(url)\n",
    "# txt = r.text"
   ]
  },
  {
   "cell_type": "code",
   "execution_count": 4,
   "metadata": {},
   "outputs": [
    {
     "name": "stdout",
     "output_type": "stream",
     "text": [
      "word `bible` probablity is 5.810372677303523e-06\n"
     ]
    }
   ],
   "source": [
    "# http://www.cnblogs.com/baiboy/p/nltk4.html\n",
    "# https://stackoverflow.com/questions/42120146/read-in-gutenberg-text-from-nltk\n",
    "# https://www.bbsmax.com/A/E35poNLJvX/\n",
    "# https://stackoverflow.com/questions/3788870/how-to-check-if-a-word-is-an-english-word-with-python\n",
    "from nltk.corpus import gutenberg\n",
    "from nltk.corpus import wordnet\n",
    "pmf = Pmf()\n",
    "words = gutenberg.words('bible-kjv.txt')\n",
    "for word in words:\n",
    "    if wordnet.synsets(word.lower()):\n",
    "        pmf.Incr(word.lower(), 1)\n",
    "pmf.Normalize()\n",
    "word=\"bible\"\n",
    "print(\"word `{}` probablity is {}\".format(word, pmf.Prob(word)))"
   ]
  },
  {
   "cell_type": "code",
   "execution_count": 4,
   "metadata": {},
   "outputs": [
    {
     "name": "stdout",
     "output_type": "stream",
     "text": [
      "0.6000000000000001\n"
     ]
    }
   ],
   "source": [
    "# cookies using Pmf\n",
    "from thinkbayes2 import Pmf\n",
    "pmf = Pmf()\n",
    "pmf.Set('Bow1', 0.5)\n",
    "pmf.Set('Bow2', 0.5)\n",
    "pmf.Mult('Bow1', 0.75)\n",
    "pmf.Mult('Bow2', 0.5)\n",
    "pmf.Normalize()\n",
    "print(pmf.Prob('Bow1'))"
   ]
  },
  {
   "cell_type": "code",
   "execution_count": 3,
   "metadata": {},
   "outputs": [],
   "source": [
    "# cookies using Pmf subclass\n",
    "class Cookie(Pmf):\n",
    "    def __init__(self, hypos):\n",
    "        super().__init__(self)\n",
    "        for hypo in hypos:\n",
    "            self.Set(hypo, 1)\n",
    "        self.Normalize()\n",
    "#         mixes for likelihood\n",
    "        self.mixes = {'Bow1': {'vanilla':0.75, 'chocolate':0.25},\n",
    "                      'Bow2': {'vanilla':0.5, 'chocolate':0.5},\n",
    "                      }\n",
    "    \n",
    "    def Update(self, data):\n",
    "        for hypo in self.Values():\n",
    "            like = self.Likelihood(data, hypo)\n",
    "            self.Mult(hypo, like)\n",
    "        self.Normalize()\n",
    "    \n",
    "    def Likelihood(self, data, hypo):\n",
    "        mix = self.mixes[hypo]\n",
    "        like = mix[data]\n",
    "        return like"
   ]
  },
  {
   "cell_type": "code",
   "execution_count": 4,
   "metadata": {},
   "outputs": [
    {
     "name": "stdout",
     "output_type": "stream",
     "text": [
      "Bow1: 0.6000000000000001\n",
      "Bow2: 0.4\n",
      "Bow1: 0.627906976744186\n",
      "Bow2: 0.37209302325581395\n"
     ]
    }
   ],
   "source": [
    "hypos = ['Bow1', 'Bow2']\n",
    "pmf = Cookie(hypos)\n",
    "pmf.Update('vanilla')\n",
    "for hypo, prob in pmf.Items():\n",
    "    print(\"{}: {}\".format(hypo, prob))\n",
    "dataset = ['vanilla', 'chocolate', 'vanilla']\n",
    "for data in dataset:\n",
    "    pmf.Update(data)\n",
    "for hypo, prob in pmf.Items():\n",
    "    print(\"{}: {}\".format(hypo, prob))"
   ]
  },
  {
   "cell_type": "code",
   "execution_count": 5,
   "metadata": {},
   "outputs": [],
   "source": [
    "# cookies using Suite\n",
    "from thinkbayes2 import Suite\n",
    "class Cookie2(Suite):\n",
    "    def __init__(self, obj):\n",
    "        super().__init__(obj)\n",
    "#         mixes for likelihood\n",
    "        self.mixes = {\n",
    "            'Bow1': {'vanilla':0.75, 'chocolate':0.25},\n",
    "            'Bow2': {'vanilla':0.5, 'chocolate':0.5}\n",
    "        }\n",
    "    \n",
    "    def Likelihood(self, data, hypo):\n",
    "        mix = self.mixes[hypo]\n",
    "        like = mix[data]\n",
    "        return like"
   ]
  },
  {
   "cell_type": "code",
   "execution_count": 6,
   "metadata": {},
   "outputs": [
    {
     "name": "stdout",
     "output_type": "stream",
     "text": [
      "Bow1 0.5\n",
      "Bow2 0.5\n",
      "Bow1 0.6000000000000001\n",
      "Bow2 0.4\n",
      "Bow1 0.627906976744186\n",
      "Bow2 0.37209302325581395\n"
     ]
    }
   ],
   "source": [
    "hypos=['Bow1', 'Bow2']\n",
    "suite = Cookie2(hypos)\n",
    "suite.Print()\n",
    "suite.Update('vanilla')\n",
    "suite.Print()\n",
    "dataset = ['vanilla', 'chocolate', 'vanilla']\n",
    "for data in dataset:\n",
    "    suite.Update(data)\n",
    "suite.Print()"
   ]
  },
  {
   "cell_type": "code",
   "execution_count": 7,
   "metadata": {},
   "outputs": [],
   "source": [
    "# using Suite class (python abstract base class) to solve with Monty hall issue\n",
    "from thinkbayes2 import Suite\n",
    "class Monty(Suite):\n",
    "    def Likelihood(self, data, hypo):\n",
    "        \"\"\"\n",
    "        using data likelihood to sample from hypothesis, refer to book description in page 7-8 of \"think bayes\"\n",
    "        \"\"\"\n",
    "        if hypo == data:    \n",
    "            # if open door 'data' == 'hypo', is's impossible to keep \"open door `data`, and car isn't behind door `data`\" as True => must False\n",
    "            return 0\n",
    "        elif hypo == 'A':\n",
    "            # if car is actually behind door 'A', then \"open door `data`, and car isn't behind door `data`\" will be 1/2 True\n",
    "            return 0.5\n",
    "        else:\n",
    "            # if car NOT behind door 'A' and open door 'data'!='hypo', then you can't see car is behind door 'data', when opening door 'data' => must True\n",
    "            return 1"
   ]
  },
  {
   "cell_type": "code",
   "execution_count": 8,
   "metadata": {},
   "outputs": [
    {
     "name": "stdout",
     "output_type": "stream",
     "text": [
      "A 0.3333333333333333\n",
      "B 0.0\n",
      "C 0.6666666666666666\n"
     ]
    }
   ],
   "source": [
    "suite=Monty('ABC')\n",
    "suite.Update('B')\n",
    "suite.Print()"
   ]
  },
  {
   "cell_type": "code",
   "execution_count": 9,
   "metadata": {},
   "outputs": [],
   "source": [
    "# M&M problem, refer to https://github.com/AllenDowney/ThinkBayes2/blob/master/code/m_and_m.py\n",
    "from thinkbayes2 import Suite\n",
    "class M_and_M(Suite):\n",
    "    def __init__(self, obj):\n",
    "        \"\"\"\n",
    "        using data likelihood to sample from hypothesis, refer to book description in page 7-8 of \"think bayes\"\n",
    "        \"\"\"\n",
    "        super().__init__(obj)\n",
    "        \"\"\"\n",
    "        Map from hypothesis (A or B) to probability.\n",
    "        \"\"\"\n",
    "        mix94 = dict(brown=30,\n",
    "                     yellow=20,\n",
    "                     red=20,\n",
    "                     green=10,\n",
    "                     orange=10,\n",
    "                     tan=10,\n",
    "                     blue=0)\n",
    "\n",
    "        mix96 = dict(blue=24,\n",
    "                     green=20,\n",
    "                     orange=16,\n",
    "                     yellow=14,\n",
    "                     red=13,\n",
    "                     brown=13,\n",
    "                     tan=0)\n",
    "\n",
    "        hypoA = dict(bag1=mix94, bag2=mix96)\n",
    "        hypoB = dict(bag1=mix96, bag2=mix94)\n",
    "        self.hypotheses = dict(A=hypoA, B=hypoB)\n",
    "    \n",
    "    def Likelihood(self, data, hypo):\n",
    "        \"\"\"\n",
    "        data is a tuple (bag, color), bag is categorized by year.\n",
    "        \"\"\"\n",
    "        bag, color = data\n",
    "        mix = self.hypotheses[hypo][bag]\n",
    "        like = mix[color]\n",
    "        return like"
   ]
  },
  {
   "cell_type": "code",
   "execution_count": 10,
   "metadata": {},
   "outputs": [
    {
     "name": "stdout",
     "output_type": "stream",
     "text": [
      "A 0.7407407407407407\n",
      "B 0.2592592592592592\n"
     ]
    }
   ],
   "source": [
    "suite = M_and_M('AB')\n",
    "suite.Update(('bag1', 'yellow'))\n",
    "suite.Update(('bag2', 'green'))\n",
    "suite.Print()"
   ]
  },
  {
   "cell_type": "code",
   "execution_count": 18,
   "metadata": {},
   "outputs": [],
   "source": [
    "# exercise 2.1 for chapter 2: cookies couldn't be put back\n",
    "from thinkbayes2 import Suite\n",
    "class Cookie3(Suite):\n",
    "    def __init__(self, mixes):\n",
    "        super().__init__(mixes.keys())\n",
    "#         mixes for likelihood, format like : \n",
    "#             {\n",
    "#                 'Bow1': {'chocolate': 10, 'vanilla': 30},\n",
    "#                 'Bow2': {'chocolate': 20, 'vanilla': 20}\n",
    "#             }\n",
    "        self.mixes = mixes\n",
    "    \n",
    "    def Likelihood(self, data, hypo):\n",
    "        mix = self.mixes[hypo]\n",
    "#         get current likelihood\n",
    "        like = mix[data] / sum(mix.values())\n",
    "#     substract the mix[data] - 1 for new key\n",
    "        self.mixes[hypo][data] = self.mixes[hypo][data] - 1\n",
    "        return like"
   ]
  },
  {
   "cell_type": "code",
   "execution_count": 24,
   "metadata": {},
   "outputs": [
    {
     "name": "stdout",
     "output_type": "stream",
     "text": [
      "Bow1 0.5\n",
      "Bow2 0.5\n",
      "Bow1 0.6000000000000001\n",
      "Bow2 0.4\n",
      "Bow1 0.6403785488958991\n",
      "Bow2 0.3596214511041009\n",
      "Bow1 0.49174931157994994\n",
      "Bow2 0.50825068842005\n",
      "Bow1 0.20110803005923983\n",
      "Bow2 0.7988919699407601\n"
     ]
    }
   ],
   "source": [
    "# also refer to https://github.com/AllenDowney/ThinkBayes2/blob/master/code/cookie3.py\n",
    "mixes = {\n",
    "    'Bow1': {'chocolate': 10, 'vanilla': 30},\n",
    "    'Bow2': {'chocolate': 20, 'vanilla': 20}\n",
    "}\n",
    "suite = Cookie3(mixes)\n",
    "suite.Print()\n",
    "suite.Update('vanilla')\n",
    "suite.Print()\n",
    "dataset = ['vanilla', 'chocolate', 'vanilla']\n",
    "for data in dataset:\n",
    "    suite.Update(data)\n",
    "suite.Print()\n",
    "dataset = ['vanilla', 'chocolate', 'vanilla', 'chocolate']\n",
    "for data in dataset:\n",
    "    suite.Update(data)\n",
    "suite.Print()\n",
    "dataset = ['vanilla', 'chocolate', 'vanilla', 'chocolate', 'vanilla', 'chocolate' ]\n",
    "for data in dataset:\n",
    "    suite.Update(data)\n",
    "suite.Print()"
   ]
  },
  {
   "cell_type": "code",
   "execution_count": 26,
   "metadata": {},
   "outputs": [
    {
     "name": "stdout",
     "output_type": "stream",
     "text": [
      "After 1 vanilla\n",
      "Bow1 0.6000000000000001\n",
      "Bow2 0.4\n",
      "\n",
      "After 1 vanilla, 1 chocolate\n",
      "Bow1 0.4285714285714286\n",
      "Bow2 0.5714285714285714\n",
      "\n",
      "After 1 vanilla, 1 chocolate, 1 vanilla\n",
      "Bow1 0.5337423312883436\n",
      "Bow2 0.4662576687116564\n"
     ]
    }
   ],
   "source": [
    "# compared with offical answer, for the same sequence\n",
    "# result: correct\n",
    "mixes = {\n",
    "    'Bow1': {'chocolate': 10, 'vanilla': 30},\n",
    "    'Bow2': {'chocolate': 20, 'vanilla': 20}\n",
    "}\n",
    "suite = Cookie3(mixes)\n",
    "print('After 1 vanilla')\n",
    "suite.Update('vanilla')\n",
    "suite.Print()\n",
    "\n",
    "print('\\nAfter 1 vanilla, 1 chocolate')\n",
    "suite.Update('chocolate')\n",
    "suite.Print()\n",
    "\n",
    "print('\\nAfter 1 vanilla, 1 chocolate, 1 vanilla')\n",
    "suite.Update('vanilla')\n",
    "suite.Print()"
   ]
  },
  {
   "cell_type": "code",
   "execution_count": null,
   "metadata": {},
   "outputs": [],
   "source": []
  }
 ],
 "metadata": {
  "kernelspec": {
   "display_name": "Python 3",
   "language": "python",
   "name": "python3"
  },
  "language_info": {
   "codemirror_mode": {
    "name": "ipython",
    "version": 3
   },
   "file_extension": ".py",
   "mimetype": "text/x-python",
   "name": "python",
   "nbconvert_exporter": "python",
   "pygments_lexer": "ipython3",
   "version": "3.6.4"
  }
 },
 "nbformat": 4,
 "nbformat_minor": 2
}
