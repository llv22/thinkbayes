{
 "cells": [
  {
   "cell_type": "code",
   "execution_count": 1,
   "metadata": {},
   "outputs": [],
   "source": [
    "# refer to https://stackoverflow.com/questions/4383571/importing-files-from-different-folder\n",
    "import sys\n",
    "sys.path.append('library')\n",
    "from thinkbayes2 import Pmf"
   ]
  },
  {
   "cell_type": "code",
   "execution_count": 2,
   "metadata": {
    "collapsed": true
   },
   "outputs": [],
   "source": [
    "# die sample\n",
    "pmf = Pmf()\n",
    "for x in range(1, 7):\n",
    "    pmf.Set(x, 1/6.0)"
   ]
  },
  {
   "cell_type": "code",
   "execution_count": 3,
   "metadata": {
    "collapsed": true
   },
   "outputs": [],
   "source": [
    "# # word counting, don't need to download,just using nltk\n",
    "# import requests\n",
    "# url = 'http://www.fullbooks.com/The-Holy-Bible1.html'\n",
    "# r = requests.get(url)\n",
    "# txt = r.text"
   ]
  },
  {
   "cell_type": "code",
   "execution_count": null,
   "metadata": {},
   "outputs": [],
   "source": [
    "# http://www.cnblogs.com/baiboy/p/nltk4.html\n",
    "# https://stackoverflow.com/questions/42120146/read-in-gutenberg-text-from-nltk\n",
    "# https://www.bbsmax.com/A/E35poNLJvX/\n",
    "# https://stackoverflow.com/questions/3788870/how-to-check-if-a-word-is-an-english-word-with-python\n",
    "from  nltk.corpus import gutenberg\n",
    "from nltk.corpus import wordnet\n",
    "pmf = Pmf()\n",
    "words = gutenberg.words('bible-kjv.txt')\n",
    "for word in words:\n",
    "    if wordnet.synsets(word.lower()):\n",
    "        pmf.Incr(word.lower(), 1)\n",
    "pmf.Normalize()\n",
    "word=\"bible\"\n",
    "print(\"word `{}` probablity is {}\".format(word, pmf.Prob(word)))"
   ]
  },
  {
   "cell_type": "code",
   "execution_count": null,
   "metadata": {
    "collapsed": true
   },
   "outputs": [],
   "source": []
  }
 ],
 "metadata": {
  "kernelspec": {
   "display_name": "Python 3",
   "language": "python",
   "name": "python3"
  },
  "language_info": {
   "codemirror_mode": {
    "name": "ipython",
    "version": 3
   },
   "file_extension": ".py",
   "mimetype": "text/x-python",
   "name": "python",
   "nbconvert_exporter": "python",
   "pygments_lexer": "ipython3",
   "version": "3.6.3"
  }
 },
 "nbformat": 4,
 "nbformat_minor": 2
}
