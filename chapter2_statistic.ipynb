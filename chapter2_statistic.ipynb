{
 "cells": [
  {
   "cell_type": "code",
   "execution_count": 1,
   "metadata": {},
   "outputs": [],
   "source": [
    "# refer to https://stackoverflow.com/questions/4383571/importing-files-from-different-folder\n",
    "import sys\n",
    "sys.path.append('library')\n",
    "from thinkbayes2 import Pmf"
   ]
  },
  {
   "cell_type": "code",
   "execution_count": 2,
   "metadata": {},
   "outputs": [],
   "source": [
    "# die sample\n",
    "pmf = Pmf()\n",
    "for x in range(1, 7):\n",
    "    pmf.Set(x, 1/6.0)"
   ]
  },
  {
   "cell_type": "code",
   "execution_count": 3,
   "metadata": {},
   "outputs": [],
   "source": [
    "# # word counting, don't need to download,just using nltk\n",
    "# import requests\n",
    "# url = 'http://www.fullbooks.com/The-Holy-Bible1.html'\n",
    "# r = requests.get(url)\n",
    "# txt = r.text"
   ]
  },
  {
   "cell_type": "code",
   "execution_count": 4,
   "metadata": {},
   "outputs": [
    {
     "name": "stdout",
     "output_type": "stream",
     "text": [
      "word `bible` probablity is 5.810372677303523e-06\n"
     ]
    }
   ],
   "source": [
    "# http://www.cnblogs.com/baiboy/p/nltk4.html\n",
    "# https://stackoverflow.com/questions/42120146/read-in-gutenberg-text-from-nltk\n",
    "# https://www.bbsmax.com/A/E35poNLJvX/\n",
    "# https://stackoverflow.com/questions/3788870/how-to-check-if-a-word-is-an-english-word-with-python\n",
    "from nltk.corpus import gutenberg\n",
    "from nltk.corpus import wordnet\n",
    "pmf = Pmf()\n",
    "words = gutenberg.words('bible-kjv.txt')\n",
    "for word in words:\n",
    "    if wordnet.synsets(word.lower()):\n",
    "        pmf.Incr(word.lower(), 1)\n",
    "pmf.Normalize()\n",
    "word=\"bible\"\n",
    "print(\"word `{}` probablity is {}\".format(word, pmf.Prob(word)))"
   ]
  },
  {
   "cell_type": "code",
   "execution_count": 5,
   "metadata": {},
   "outputs": [],
   "source": [
    "# using Suite class (python abstract base class) to solve with Monty hall issue\n",
    "from thinkbayes2 import Suite\n",
    "class Monty(Suite):\n",
    "    def Likelihood(self, data, hypo):\n",
    "        \"\"\"\n",
    "        using data likelihood to sample from hypothesis, refer to book description in page 7-8 of \"think bayes\"\n",
    "        \"\"\"\n",
    "        if hypo == data:    \n",
    "            # if open door 'data' == 'hypo', is's impossible to keep \"open door `data`, and car isn't behind door `data`\" as True => must False\n",
    "            return 0\n",
    "        elif hypo == 'A':\n",
    "            # if car is actually behind door 'A', then \"open door `data`, and car isn't behind door `data`\" will be 1/2 True\n",
    "            return 0.5\n",
    "        else:\n",
    "            # if car NOT behind door 'A' and open door 'data'!='hypo', then you can't see car is behind door 'data', when opening door 'data' => must True\n",
    "            return 1"
   ]
  },
  {
   "cell_type": "code",
   "execution_count": 6,
   "metadata": {},
   "outputs": [
    {
     "name": "stdout",
     "output_type": "stream",
     "text": [
      "A 0.3333333333333333\n",
      "B 0.0\n",
      "C 0.6666666666666666\n"
     ]
    }
   ],
   "source": [
    "suite=Monty('ABC')\n",
    "suite.Update('B')\n",
    "suite.Print()"
   ]
  },
  {
   "cell_type": "code",
   "execution_count": 25,
   "metadata": {},
   "outputs": [],
   "source": [
    "# M&M problem, refer to https://github.com/AllenDowney/ThinkBayes2/blob/master/code/m_and_m.py\n",
    "from thinkbayes2 import Suite\n",
    "class M_and_M(Suite):\n",
    "    \"\"\"\n",
    "    Map from hypothesis (A or B) to probability.\n",
    "    \"\"\"\n",
    "    mix94 = dict(brown=30,\n",
    "                 yellow=20,\n",
    "                 red=20,\n",
    "                 green=10,\n",
    "                 orange=10,\n",
    "                 tan=10,\n",
    "                 blue=0)\n",
    "\n",
    "    mix96 = dict(blue=24,\n",
    "                 green=20,\n",
    "                 orange=16,\n",
    "                 yellow=14,\n",
    "                 red=13,\n",
    "                 brown=13,\n",
    "                 tan=0)\n",
    "\n",
    "    hypoA = dict(bag1=mix94, bag2=mix96)\n",
    "    hypoB = dict(bag1=mix96, bag2=mix94)\n",
    "    hypotheses = dict(A=hypoA, B=hypoB)\n",
    "    \n",
    "    def Likelihood(self, data, hypo):\n",
    "        \"\"\"\n",
    "        data is a tuple (bag, color), bag is categorized by year.\n",
    "        \"\"\"\n",
    "        bag, color = data\n",
    "        mix = self.hypotheses[hypo][bag]\n",
    "        like = mix[color]\n",
    "        return like"
   ]
  },
  {
   "cell_type": "code",
   "execution_count": 26,
   "metadata": {},
   "outputs": [
    {
     "name": "stdout",
     "output_type": "stream",
     "text": [
      "A 0.7407407407407407\n",
      "B 0.2592592592592592\n"
     ]
    }
   ],
   "source": [
    "suite = M_and_M('AB')\n",
    "suite.Update(('bag1', 'yellow'))\n",
    "suite.Update(('bag2', 'green'))\n",
    "suite.Print()"
   ]
  },
  {
   "cell_type": "code",
   "execution_count": null,
   "metadata": {},
   "outputs": [],
   "source": [
    "# exercise for chapter 2"
   ]
  }
 ],
 "metadata": {
  "kernelspec": {
   "display_name": "Python 3",
   "language": "python",
   "name": "python3"
  },
  "language_info": {
   "codemirror_mode": {
    "name": "ipython",
    "version": 3
   },
   "file_extension": ".py",
   "mimetype": "text/x-python",
   "name": "python",
   "nbconvert_exporter": "python",
   "pygments_lexer": "ipython3",
   "version": "3.6.4"
  }
 },
 "nbformat": 4,
 "nbformat_minor": 2
}
