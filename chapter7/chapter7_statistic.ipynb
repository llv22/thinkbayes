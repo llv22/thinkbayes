{
 "cells": [
  {
   "cell_type": "code",
   "execution_count": 1,
   "metadata": {},
   "outputs": [],
   "source": [
    "import sys\n",
    "sys.path.append(\"../library\")"
   ]
  },
  {
   "cell_type": "code",
   "execution_count": 2,
   "metadata": {},
   "outputs": [],
   "source": [
    "import math\n",
    "# import columns.py for csv processing\n",
    "from columns import read_csv, write_csv\n",
    "from __future__ import print_function, division\n",
    "from thinkbayes2 import Suite, Pmf, Mean, MeanVar, EvalPoissonPmf, \\\n",
    "    MakeCdfFromList, MakeNormalPmf, MakeMixture, MakePoissonPmf, MakeExponentialPmf, \\\n",
    "    PmfProbLess, PmfProbEqual\n",
    "import thinkplot\n",
    "# refer to https://github.com/AllenDowney/ThinkBayes2/blob/master/code/hockey.py"
   ]
  },
  {
   "cell_type": "code",
   "execution_count": 3,
   "metadata": {},
   "outputs": [],
   "source": [
    "class Game(object):\n",
    "    \"\"\"\n",
    "    Represents a game.\n",
    "    Attributes are set in columns.read_csv.\n",
    "    \"\"\"\n",
    "    convert = dict()\n",
    "\n",
    "    def clean(self):\n",
    "        self.goals = self.pd1 + self.pd2 + self.pd3"
   ]
  },
  {
   "cell_type": "code",
   "execution_count": 4,
   "metadata": {},
   "outputs": [],
   "source": [
    "def ProcessScoresTeamwise(pairs):\n",
    "    \"\"\"Average number of goals for each team.\n",
    "    pairs: map from (team1, team2) to [(score1, score2)], list of (score1, score2)\n",
    "    \"\"\"\n",
    "    # map from team to list of goals scored\n",
    "    goals_scored = {}\n",
    "    for key, entries in pairs.items():\n",
    "        t1, t2 = key\n",
    "#         print('team1, team2', t1, t2)\n",
    "        for entry in entries:\n",
    "            g1, g2 = entry\n",
    "            goals_scored.setdefault(t1, []).append(g1)\n",
    "            goals_scored.setdefault(t2, []).append(g2)\n",
    "\n",
    "    # make a list of average goals scored\n",
    "    lams = []\n",
    "    for key, goals in goals_scored.items():\n",
    "        lam = Mean(goals)\n",
    "        lams.append(lam)\n",
    "#     print(lams)\n",
    "\n",
    "    # make the distribution of average goals scored\n",
    "    cdf = MakeCdfFromList(lams)\n",
    "    thinkplot.Cdf(cdf)\n",
    "    thinkplot.Show()\n",
    "\n",
    "    mu, var = MeanVar(lams)\n",
    "    print('mu, sig', mu, math.sqrt(var))\n",
    "    return (round(mu, 2), round(math.sqrt(var), 2))"
   ]
  },
  {
   "cell_type": "code",
   "execution_count": 5,
   "metadata": {},
   "outputs": [],
   "source": [
    "def ProcessScoresPairwise(pairs):\n",
    "    \"\"\"Average number of goals for each team against each opponent.\n",
    "    pairs: map from (team1, team2) to (score1, score2)\n",
    "    \"\"\"\n",
    "    # map from (team1, team2) to list of goals scored\n",
    "    goals_scored = {}\n",
    "    for key, entries in pairs.items():\n",
    "        t1, t2 = key\n",
    "        for entry in entries:\n",
    "            g1, g2 = entry\n",
    "            goals_scored.setdefault((t1, t2), []).append(g1)\n",
    "            goals_scored.setdefault((t2, t1), []).append(g2)\n",
    "\n",
    "    # make a list of average goals scored\n",
    "    lams = []\n",
    "    for key, goals in goals_scored.items():\n",
    "        if len(goals) < 3:\n",
    "            continue\n",
    "        lam = Mean(goals)\n",
    "        lams.append(lam)\n",
    "#     print(lams)\n",
    "        \n",
    "    # make the distribution of average goals scored\n",
    "    cdf = MakeCdfFromList(lams)\n",
    "    thinkplot.Cdf(cdf)\n",
    "    thinkplot.Show()\n",
    "\n",
    "    mu, var = MeanVar(lams)\n",
    "    print('mu, sig', mu, math.sqrt(var))\n",
    "# print BOS and VAN's history data\n",
    "    print('BOS v VAN', pairs['BOS', 'VAN'])\n",
    "    return (round(mu, 2), round(math.sqrt(var), 2))"
   ]
  },
  {
   "cell_type": "code",
   "execution_count": 6,
   "metadata": {},
   "outputs": [],
   "source": [
    "# data processing for raw data downloaded from https://raw.githubusercontent.com/AllenDowney/ThinkBayes2/master/code/hockey_data.csv\n",
    "def ReadHockeyData(filename='hockey_data.csv'):\n",
    "    \"\"\"\n",
    "    Read game scores from the data file.\n",
    "    filename: string\n",
    "    \"\"\"\n",
    "    game_list = read_csv(filename, Game)\n",
    "\n",
    "    # map from gameID to list of two games\n",
    "    games = {}\n",
    "    for game in game_list:\n",
    "        if game.season != 2011:\n",
    "            continue\n",
    "        key = game.game\n",
    "        # games.setdefault(, []) to add value, if key doesn't exists, otherwise, return value list\n",
    "        games.setdefault(key, []).append(game)\n",
    "\n",
    "    # map from (team1, team2) to [(score1, score2)], list of (score1, score2)\n",
    "    pairs = {}\n",
    "    for key, pair in games.items():\n",
    "        t1, t2 = pair\n",
    "        key = t1.team, t2.team\n",
    "        entry = t1.total, t2.total\n",
    "        pairs.setdefault(key, []).append(entry)\n",
    "        \n",
    "    mu0, var0 = ProcessScoresTeamwise(pairs)\n",
    "    mu1, var1 = ProcessScoresPairwise(pairs)\n",
    "    return [(mu0, var0), (mu1, var1)]"
   ]
  },
  {
   "cell_type": "code",
   "execution_count": 7,
   "metadata": {},
   "outputs": [
    {
     "name": "stderr",
     "output_type": "stream",
     "text": [
      "No handles with labels found to put in legend.\n"
     ]
    },
    {
     "data": {
      "image/png": "[encoded data removed]",
      "text/plain": [
       "<Figure size 432x288 with 1 Axes>"
      ]
     },
     "metadata": {},
     "output_type": "display_data"
    },
    {
     "name": "stderr",
     "output_type": "stream",
     "text": [
      "No handles with labels found to put in legend.\n"
     ]
    },
    {
     "name": "stdout",
     "output_type": "stream",
     "text": [
      "mu, sig 2.7878048780487803 0.2649570919209202\n"
     ]
    },
    {
     "data": {
      "image/png": "[encoded data removed]",
      "text/plain": [
       "<Figure size 576x432 with 1 Axes>"
      ]
     },
     "metadata": {},
     "output_type": "display_data"
    },
    {
     "name": "stdout",
     "output_type": "stream",
     "text": [
      "mu, sig 2.7998015873015873 0.841438732485367\n",
      "BOS v VAN [(3, 1)]\n",
      "[(2.79, 0.26), (2.8, 0.84)]\n"
     ]
    }
   ],
   "source": [
    "# for data analysis\n",
    "data = ReadHockeyData()\n",
    "print(data)"
   ]
  },
  {
   "cell_type": "code",
   "execution_count": 8,
   "metadata": {},
   "outputs": [],
   "source": [
    "USE_SUMMARY_DATA = True"
   ]
  },
  {
   "cell_type": "code",
   "execution_count": 9,
   "metadata": {},
   "outputs": [],
   "source": [
    "class Hockey(Suite):\n",
    "    \"\"\"\n",
    "    Represent hypothesis about the scoring rate for team\n",
    "    \"\"\"\n",
    "    def __init__(self, label=None):\n",
    "        \"\"\"\n",
    "        Initialize the hockey object.\n",
    "        label: str\n",
    "        \"\"\"\n",
    "        if USE_SUMMARY_DATA:\n",
    "            # prior based on each team's average goal\n",
    "            mu = data[0][0]\n",
    "            sigma = data[0][1]\n",
    "        else:\n",
    "            # prior based on each pair-wise match-up\n",
    "            mu = data[1][0]\n",
    "            sigma = data[1][1]\n",
    "        # make pmf around center for 4 sigma\n",
    "        pmf = MakeNormalPmf(mu, sigma, 4)\n",
    "        super().__init__(pmf, label=label)\n",
    "        \n",
    "    def Likelihood(self, data, hypo):\n",
    "        \"\"\"\n",
    "        Computes the likelihood of the data under the hypothesis.\n",
    "        Evaluates the Poisson PMF for lambda and k.\n",
    "        hypo: goal scoring rate in goals per game\n",
    "        data: goals scored in one period\n",
    "        \"\"\"\n",
    "        lam = hypo\n",
    "#         print('lam:', lam)\n",
    "        k = data\n",
    "        like = EvalPoissonPmf(lam, k)\n",
    "        return like"
   ]
  },
  {
   "cell_type": "code",
   "execution_count": 10,
   "metadata": {},
   "outputs": [],
   "source": [
    "formats = ['pdf']"
   ]
  },
  {
   "cell_type": "code",
   "execution_count": 11,
   "metadata": {},
   "outputs": [
    {
     "name": "stdout",
     "output_type": "stream",
     "text": [
      "Writing hockey0.pdf\n"
     ]
    }
   ],
   "source": [
    "# prior distribution\n",
    "suite1 = Hockey('bruins')\n",
    "# suite1.UpdateSet([0, 2, 8, 4])\n",
    "suite2 = Hockey('canucks')\n",
    "# suite2.UpdateSet([1, 3, 1, 0])\n",
    "\n",
    "thinkplot.Clf()\n",
    "thinkplot.PrePlot(num=2)\n",
    "thinkplot.Pmf(suite1)\n",
    "thinkplot.Pmf(suite2)\n",
    "thinkplot.Save(root='hockey0',\n",
    "            xlabel='Goals per game',\n",
    "            ylabel='Probability',\n",
    "            formats=formats)"
   ]
  },
  {
   "cell_type": "markdown",
   "metadata": {},
   "source": [
    "# Poission distribution for goal\n",
    "References: \n",
    "    * [MathJax grammar](https://www.liuguogy.com/archives/markdown-mathjax-grammar.html)\n",
    "    * [Poission distribution](http://www.milefoot.com/math/stat/pdfd-poisson.htm)\n",
    "    * [Wiki of Poission distribution](https://en.wikipedia.org/wiki/Poisson_distribution)\n",
    "    * [Mathjax wiki](https://www.mathjax.org/#demo)\n",
    "1. Parameters of distribution: \n",
    "    * average goal number - $\\lambda$\n",
    "    * kick goal number - $k$\n",
    "2. Distribution equation\n",
    "    $$ P(x) = { \\lambda^k e^{-\\lambda} \\over k!} $$"
   ]
  },
  {
   "cell_type": "code",
   "execution_count": 12,
   "metadata": {},
   "outputs": [],
   "source": [
    "def MakeGoalPmf(suite, high=10):\n",
    "    \"\"\"\n",
    "    Makes the distribution of goals scored, given distribution of lam.\n",
    "    suite: distribution of goal-scoring rate\n",
    "    high: upper bound\n",
    "    returns: Pmf of goals per game\n",
    "    \"\"\"\n",
    "    metapmf = Pmf()\n",
    "\n",
    "    for lam, prob in suite.Items():\n",
    "        # using lam (average of goal of team), high the real goal for the gam to generate pmf to update mixture distribution\n",
    "        pmf = MakePoissonPmf(lam, high)\n",
    "        metapmf.Set(pmf, prob)\n",
    "\n",
    "    # make mixture based on different goal\n",
    "    mix = MakeMixture(metapmf, label=suite.label)\n",
    "    return mix"
   ]
  },
  {
   "cell_type": "markdown",
   "metadata": {},
   "source": [
    "# Exponential distribution for goal slot between\n",
    "References: \n",
    "    * [MathJax grammar](https://www.liuguogy.com/archives/markdown-mathjax-grammar.html)\n",
    "    * [Exponential distribution](http://www.milefoot.com/math/stat/pdfc-exponential.htm)\n",
    "    * [Mathjax wiki](https://www.mathjax.org/#demo)\n",
    "1. Parameters of distribution: \n",
    "    * average goal number - $\\lambda$\n",
    "    * kick goal number - $k$\n",
    "2. Distribution equation\n",
    "    $$ P(x) = { \\lambda e^{-\\lambda k} } $$"
   ]
  },
  {
   "cell_type": "code",
   "execution_count": 13,
   "metadata": {},
   "outputs": [],
   "source": [
    "def MakeGoalTimePmf(suite):\n",
    "    \"\"\"\n",
    "    Makes the distribution of time til first goal.\n",
    "    suite: distribution of goal-scoring rate\n",
    "    returns: Pmf of goals per game\n",
    "    \"\"\"\n",
    "    metapmf = Pmf()\n",
    "\n",
    "    for lam, prob in suite.Items():\n",
    "        # time slot between goal distribution\n",
    "        pmf = MakeExponentialPmf(lam, high=2, n=201)\n",
    "        metapmf.Set(pmf, prob)\n",
    "\n",
    "    mix = MakeMixture(metapmf, label=suite.label)\n",
    "    return mix"
   ]
  },
  {
   "cell_type": "code",
   "execution_count": 14,
   "metadata": {},
   "outputs": [
    {
     "ename": "ValueError",
     "evalue": "Normalize: total probability is zero.",
     "output_type": "error",
     "traceback": [
      "\u001b[0;31m---------------------------------------------------------------------------\u001b[0m",
      "\u001b[0;31mValueError\u001b[0m                                Traceback (most recent call last)",
      "\u001b[0;32m<ipython-input-14-6216835c7b96>\u001b[0m in \u001b[0;36m<module>\u001b[0;34m()\u001b[0m\n\u001b[0;32m----> 1\u001b[0;31m \u001b[0msuite1\u001b[0m\u001b[0;34m.\u001b[0m\u001b[0mUpdateSet\u001b[0m\u001b[0;34m(\u001b[0m\u001b[0;34m[\u001b[0m\u001b[0;36m0\u001b[0m\u001b[0;34m,\u001b[0m \u001b[0;36m2\u001b[0m\u001b[0;34m,\u001b[0m \u001b[0;36m8\u001b[0m\u001b[0;34m,\u001b[0m \u001b[0;36m4\u001b[0m\u001b[0;34m]\u001b[0m\u001b[0;34m)\u001b[0m\u001b[0;34m\u001b[0m\u001b[0m\n\u001b[0m\u001b[1;32m      2\u001b[0m \u001b[0msuite2\u001b[0m\u001b[0;34m.\u001b[0m\u001b[0mUpdateSet\u001b[0m\u001b[0;34m(\u001b[0m\u001b[0;34m[\u001b[0m\u001b[0;36m1\u001b[0m\u001b[0;34m,\u001b[0m \u001b[0;36m3\u001b[0m\u001b[0;34m,\u001b[0m \u001b[0;36m1\u001b[0m\u001b[0;34m,\u001b[0m \u001b[0;36m0\u001b[0m\u001b[0;34m]\u001b[0m\u001b[0;34m)\u001b[0m\u001b[0;34m\u001b[0m\u001b[0m\n\u001b[1;32m      3\u001b[0m \u001b[0;34m\u001b[0m\u001b[0m\n\u001b[1;32m      4\u001b[0m \u001b[0mthinkplot\u001b[0m\u001b[0;34m.\u001b[0m\u001b[0mClf\u001b[0m\u001b[0;34m(\u001b[0m\u001b[0;34m)\u001b[0m\u001b[0;34m\u001b[0m\u001b[0m\n\u001b[1;32m      5\u001b[0m \u001b[0mthinkplot\u001b[0m\u001b[0;34m.\u001b[0m\u001b[0mPrePlot\u001b[0m\u001b[0;34m(\u001b[0m\u001b[0mnum\u001b[0m\u001b[0;34m=\u001b[0m\u001b[0;36m2\u001b[0m\u001b[0;34m)\u001b[0m\u001b[0;34m\u001b[0m\u001b[0m\n",
      "\u001b[0;32m~/Documents/algorithm/machine_learning/thinkbayes_learning/thinkbayes/library/thinkbayes2.py\u001b[0m in \u001b[0;36mUpdateSet\u001b[0;34m(self, dataset)\u001b[0m\n\u001b[1;32m   1446\u001b[0m                 \u001b[0mlike\u001b[0m \u001b[0;34m=\u001b[0m \u001b[0mself\u001b[0m\u001b[0;34m.\u001b[0m\u001b[0mLikelihood\u001b[0m\u001b[0;34m(\u001b[0m\u001b[0mdata\u001b[0m\u001b[0;34m,\u001b[0m \u001b[0mhypo\u001b[0m\u001b[0;34m)\u001b[0m\u001b[0;34m\u001b[0m\u001b[0m\n\u001b[1;32m   1447\u001b[0m                 \u001b[0mself\u001b[0m\u001b[0;34m.\u001b[0m\u001b[0mMult\u001b[0m\u001b[0;34m(\u001b[0m\u001b[0mhypo\u001b[0m\u001b[0;34m,\u001b[0m \u001b[0mlike\u001b[0m\u001b[0;34m)\u001b[0m\u001b[0;34m\u001b[0m\u001b[0m\n\u001b[0;32m-> 1448\u001b[0;31m         \u001b[0;32mreturn\u001b[0m \u001b[0mself\u001b[0m\u001b[0;34m.\u001b[0m\u001b[0mNormalize\u001b[0m\u001b[0;34m(\u001b[0m\u001b[0;34m)\u001b[0m\u001b[0;34m\u001b[0m\u001b[0m\n\u001b[0m\u001b[1;32m   1449\u001b[0m \u001b[0;34m\u001b[0m\u001b[0m\n\u001b[1;32m   1450\u001b[0m     \u001b[0;32mdef\u001b[0m \u001b[0mLogUpdateSet\u001b[0m\u001b[0;34m(\u001b[0m\u001b[0mself\u001b[0m\u001b[0;34m,\u001b[0m \u001b[0mdataset\u001b[0m\u001b[0;34m)\u001b[0m\u001b[0;34m:\u001b[0m\u001b[0;34m\u001b[0m\u001b[0m\n",
      "\u001b[0;32m~/Documents/algorithm/machine_learning/thinkbayes_learning/thinkbayes/library/thinkbayes2.py\u001b[0m in \u001b[0;36mNormalize\u001b[0;34m(self, fraction)\u001b[0m\n\u001b[1;32m    530\u001b[0m         \u001b[0mtotal\u001b[0m \u001b[0;34m=\u001b[0m \u001b[0mself\u001b[0m\u001b[0;34m.\u001b[0m\u001b[0mTotal\u001b[0m\u001b[0;34m(\u001b[0m\u001b[0;34m)\u001b[0m\u001b[0;34m\u001b[0m\u001b[0m\n\u001b[1;32m    531\u001b[0m         \u001b[0;32mif\u001b[0m \u001b[0mtotal\u001b[0m \u001b[0;34m==\u001b[0m \u001b[0;36m0\u001b[0m\u001b[0;34m:\u001b[0m\u001b[0;34m\u001b[0m\u001b[0m\n\u001b[0;32m--> 532\u001b[0;31m             \u001b[0;32mraise\u001b[0m \u001b[0mValueError\u001b[0m\u001b[0;34m(\u001b[0m\u001b[0;34m'Normalize: total probability is zero.'\u001b[0m\u001b[0;34m)\u001b[0m\u001b[0;34m\u001b[0m\u001b[0m\n\u001b[0m\u001b[1;32m    533\u001b[0m \u001b[0;34m\u001b[0m\u001b[0m\n\u001b[1;32m    534\u001b[0m         \u001b[0mfactor\u001b[0m \u001b[0;34m=\u001b[0m \u001b[0mfraction\u001b[0m \u001b[0;34m/\u001b[0m \u001b[0mtotal\u001b[0m\u001b[0;34m\u001b[0m\u001b[0m\n",
      "\u001b[0;31mValueError\u001b[0m: Normalize: total probability is zero."
     ]
    }
   ],
   "source": [
    "suite1.UpdateSet([0, 2, 8, 4])\n",
    "suite2.UpdateSet([1, 3, 1, 0])\n",
    "\n",
    "thinkplot.Clf()\n",
    "thinkplot.PrePlot(num=2)\n",
    "thinkplot.Pmf(suite1)\n",
    "thinkplot.Pmf(suite2)\n",
    "thinkplot.Save(root='hockey1',\n",
    "            xlabel='Goals per game',\n",
    "            ylabel='Probability',\n",
    "            formats=formats)"
   ]
  },
  {
   "cell_type": "code",
   "execution_count": null,
   "metadata": {},
   "outputs": [],
   "source": [
    "goal_dist1 = MakeGoalPmf(suite1)\n",
    "goal_dist2 = MakeGoalPmf(suite2)\n",
    "\n",
    "thinkplot.Clf()\n",
    "thinkplot.PrePlot(num=2)\n",
    "thinkplot.Pmf(goal_dist1)\n",
    "thinkplot.Pmf(goal_dist2)\n",
    "thinkplot.Save(root='hockey2',\n",
    "            xlabel='Goals',\n",
    "            ylabel='Probability',\n",
    "            formats=formats)"
   ]
  },
  {
   "cell_type": "code",
   "execution_count": null,
   "metadata": {},
   "outputs": [],
   "source": [
    "time_dist1 = MakeGoalTimePmf(suite1)    \n",
    "time_dist2 = MakeGoalTimePmf(suite2)\n",
    "\n",
    "print('MLE bruins', suite1.MaximumLikelihood())\n",
    "print('MLE canucks', suite2.MaximumLikelihood())\n",
    "\n",
    "thinkplot.Clf()\n",
    "thinkplot.PrePlot(num=2)\n",
    "thinkplot.Pmf(time_dist1)\n",
    "thinkplot.Pmf(time_dist2)    \n",
    "thinkplot.Save(root='hockey3',\n",
    "               xlabel='Games until goal',\n",
    "               ylabel='Probability',\n",
    "               formats=formats)"
   ]
  },
  {
   "cell_type": "code",
   "execution_count": null,
   "metadata": {},
   "outputs": [],
   "source": [
    "# goal distribution 1 and 2\n",
    "diff = goal_dist1 - goal_dist2\n",
    "p_win = diff.ProbGreater(0)\n",
    "p_loss = diff.ProbLess(0)\n",
    "p_tie = diff.Prob(0)\n",
    "\n",
    "print(p_win, p_loss, p_tie)"
   ]
  },
  {
   "cell_type": "code",
   "execution_count": null,
   "metadata": {},
   "outputs": [],
   "source": [
    "p_overtime = PmfProbLess(time_dist1, time_dist2)\n",
    "p_adjust = PmfProbEqual(time_dist1, time_dist2)\n",
    "# why here need to divide by /2 ?\n",
    "p_overtime += p_adjust / 2\n",
    "print('p_overtime', p_overtime) \n",
    "\n",
    "print(p_overtime * p_tie)\n",
    "p_win += p_overtime * p_tie\n",
    "print('p_win', p_win)\n",
    "\n",
    "# win the next two\n",
    "p_series = p_win**2\n",
    "\n",
    "# split the next two, win the third\n",
    "p_series += 2 * p_win * (1-p_win) * p_win\n",
    "\n",
    "print('p_series', p_series)"
   ]
  }
 ],
 "metadata": {
  "kernelspec": {
   "display_name": "Python 3",
   "language": "python",
   "name": "python3"
  },
  "language_info": {
   "codemirror_mode": {
    "name": "ipython",
    "version": 3
   },
   "file_extension": ".py",
   "mimetype": "text/x-python",
   "name": "python",
   "nbconvert_exporter": "python",
   "pygments_lexer": "ipython3",
   "version": "3.6.4"
  }
 },
 "nbformat": 4,
 "nbformat_minor": 2
}
