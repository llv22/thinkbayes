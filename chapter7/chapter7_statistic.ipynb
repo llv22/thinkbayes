{
 "cells": [
  {
   "cell_type": "code",
   "execution_count": 1,
   "metadata": {},
   "outputs": [],
   "source": [
    "import sys\n",
    "sys.path.append(\"../library\")"
   ]
  },
  {
   "cell_type": "code",
   "execution_count": 2,
   "metadata": {},
   "outputs": [],
   "source": [
    "import math\n",
    "# import columns.py for csv processing\n",
    "from columns import read_csv, write_csv\n",
    "from __future__ import print_function, division\n",
    "from thinkbayes2 import Suite"
   ]
  },
  {
   "cell_type": "code",
   "execution_count": 3,
   "metadata": {},
   "outputs": [],
   "source": [
    "class Game(object):\n",
    "    \"\"\"\n",
    "    Represents a game.\n",
    "    Attributes are set in columns.read_csv.\n",
    "    \"\"\"\n",
    "    convert = dict()\n",
    "\n",
    "    def clean(self):\n",
    "        self.goals = self.pd1 + self.pd2 + self.pd3"
   ]
  },
  {
   "cell_type": "code",
   "execution_count": 4,
   "metadata": {},
   "outputs": [],
   "source": [
    "# data processing for raw data downloaded from https://raw.githubusercontent.com/AllenDowney/ThinkBayes2/master/code/hockey_data.csv\n",
    "def ReadHockeyData(filename='hockey_data.csv'):\n",
    "    \"\"\"\n",
    "    Read game scores from the data file.\n",
    "    filename: string\n",
    "    \"\"\"\n",
    "    game_list = read_csv(filename, Game)\n",
    "\n",
    "    # map from gameID to list of two games\n",
    "    games = {}\n",
    "    for game in game_list:\n",
    "        if game.season != 2011:\n",
    "            continue\n",
    "        key = game.game\n",
    "        games.setdefault(key, []).append(game)\n",
    "\n",
    "    # map from (team1, team2) to (score1, score2)\n",
    "    pairs = {}\n",
    "    for key, pair in games.items():\n",
    "        t1, t2 = pair\n",
    "        key = t1.team, t2.team\n",
    "        entry = t1.total, t2.total\n",
    "        pairs.setdefault(key, []).append(entry)"
   ]
  },
  {
   "cell_type": "code",
   "execution_count": 6,
   "metadata": {},
   "outputs": [
    {
     "name": "stdout",
     "output_type": "stream",
     "text": [
      "None\n"
     ]
    }
   ],
   "source": [
    "data = ReadHockeyData()"
   ]
  },
  {
   "cell_type": "code",
   "execution_count": null,
   "metadata": {},
   "outputs": [],
   "source": []
  }
 ],
 "metadata": {
  "kernelspec": {
   "display_name": "Python 3",
   "language": "python",
   "name": "python3"
  },
  "language_info": {
   "codemirror_mode": {
    "name": "ipython",
    "version": 3
   },
   "file_extension": ".py",
   "mimetype": "text/x-python",
   "name": "python",
   "nbconvert_exporter": "python",
   "pygments_lexer": "ipython3",
   "version": "3.6.4"
  }
 },
 "nbformat": 4,
 "nbformat_minor": 2
}
