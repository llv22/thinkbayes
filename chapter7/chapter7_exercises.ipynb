{
 "cells": [
  {
   "cell_type": "code",
   "execution_count": 1,
   "metadata": {},
   "outputs": [],
   "source": [
    "import sys\n",
    "sys.path.append(\"../library\")"
   ]
  },
  {
   "cell_type": "code",
   "execution_count": 2,
   "metadata": {},
   "outputs": [],
   "source": [
    "import math\n",
    "# import columns.py for csv processing\n",
    "from columns import read_csv, write_csv\n",
    "from __future__ import print_function, division\n",
    "from thinkbayes2 import Suite, Pmf, Mean, MeanVar, EvalPoissonPmf, \\\n",
    "    MakeCdfFromList, MakeNormalPmf, MakeMixture, MakePoissonPmf, MakeExponentialPmf, MakeUniformPmf, \\\n",
    "    PmfProbLess, PmfProbEqual\n",
    "import thinkplot"
   ]
  },
  {
   "cell_type": "markdown",
   "metadata": {},
   "source": [
    "# Exercise 1\n",
    "If buses arrive at a bus stop every 20 minutes, and you arrive at the bus stop at a random time, your wait time until the bus arrives is uniformly distributed from 0 to 20 minutes.\n",
    "\n",
    "But in reality, there is variability in the time between buses. Suppose you are waiting for a bus, and you know **the historical distribution of time between buses.**\n",
    "Compute your distribution of wait times.\n",
    "\n",
    "Hint: Suppose that the time between buses is either 5 or 10 minutes with equal probability. What is the probability that you arrive during one of the 10 minute intervals?"
   ]
  },
  {
   "cell_type": "code",
   "execution_count": 3,
   "metadata": {},
   "outputs": [],
   "source": [
    "# supposed the historical distribution of time between buses is pmf_zb\n",
    "def PmfOfWaitTime(pmf_zb: Pmf):\n",
    "    \"\"\"\n",
    "    To estimate waiting time distribution based on distribution of time between buses.\n",
    "    Arguments:\n",
    "        1, pmf_zb: the historical distribution of time between buses\n",
    "    Return:\n",
    "        distribution of waiting time of buses\n",
    "    \"\"\"\n",
    "    metapmf = Pmf()\n",
    "    for gap, prob in pmf_zb.Items():\n",
    "        uniform = MakeUniformPmf(0, gap)\n",
    "        metapmf.Set(uniform, prob)\n",
    "    pmf_y = MakeMixture(metapmf)\n",
    "    return pmf_y"
   ]
  },
  {
   "cell_type": "markdown",
   "metadata": {},
   "source": [
    "# Exercise 2\n",
    "Suppose that passengers arriving at the bus stop are well-modeled by a **Poisson process with parameter λ**. If you arrive at the stop and find 3 people waiting, what is your **posterior distribution for your waiting time since the last bus arrived**?\n",
    "\n",
    "### Analysis\n",
    "* Poisson distribution equation\n",
    "    $$ P(x) = { \\lambda^k e^{-\\lambda} \\over k!} $$"
   ]
  },
  {
   "cell_type": "code",
   "execution_count": 4,
   "metadata": {},
   "outputs": [],
   "source": [
    "def BiasPmf(pmf):\n",
    "    \"\"\"\n",
    "    Compute Bias pmf based on observation of customer, as customer believe that what they saw ~ likelihood of happening\n",
    "    \"\"\"\n",
    "    new_pmf = pmf.Copy()\n",
    "    for x, p in pmf.Items():\n",
    "        # actually doing this: p[x] * likelihood(~x)\n",
    "        new_pmf.Mult(x, x)\n",
    "    new_pmf.Normalize()\n",
    "    return new_pmf"
   ]
  },
  {
   "cell_type": "code",
   "execution_count": 5,
   "metadata": {},
   "outputs": [],
   "source": [
    "class WaitTimeCalculator(object):\n",
    "    \"\"\"\n",
    "    calculator for waiting time.\n",
    "    \"\"\"\n",
    "    def __init__(self, pmf_z):\n",
    "        # prior of z for timeslot between trains distribution\n",
    "        self.pmf_z = pmf_z\n",
    "        self.pmf_zb = BiasPmf(pmf=pmf_z)\n",
    "        \n",
    "        self.pmf_y = self.PmfOfWaitTime(self.pmf_zb)\n",
    "        self.pmf_x = self.pmf_y\n",
    "        \n",
    "    def PmfOfWaitTime(pmf_zb: Pmf):\n",
    "        \"\"\"\n",
    "        To estimate waiting time distribution based on distribution of time between buses.\n",
    "        Arguments:\n",
    "            1, pmf_zb: the historical distribution of time between buses\n",
    "        Return:\n",
    "            distribution of waiting time of buses\n",
    "        \"\"\"\n",
    "        metapmf = Pmf()\n",
    "        for gap, prob in pmf_zb.Items():\n",
    "            uniform = MakeUniformPmf(0, gap)\n",
    "            metapmf.Set(uniform, prob)\n",
    "        pmf_y = MakeMixture(metapmf)\n",
    "        return pmf_y"
   ]
  },
  {
   "cell_type": "code",
   "execution_count": 9,
   "metadata": {},
   "outputs": [
    {
     "ename": "TypeError",
     "evalue": "Can't instantiate abstract class Suite with abstract methods Likelihood",
     "output_type": "error",
     "traceback": [
      "\u001b[0;31m---------------------------------------------------------------------------\u001b[0m",
      "\u001b[0;31mTypeError\u001b[0m                                 Traceback (most recent call last)",
      "\u001b[0;32m<ipython-input-9-248ec542d5d3>\u001b[0m in \u001b[0;36m<module>\u001b[0;34m()\u001b[0m\n\u001b[0;32m----> 1\u001b[0;31m \u001b[0mpmf_z\u001b[0m \u001b[0;34m=\u001b[0m \u001b[0mSuite\u001b[0m\u001b[0;34m(\u001b[0m\u001b[0;34m)\u001b[0m\u001b[0;34m\u001b[0m\u001b[0m\n\u001b[0m\u001b[1;32m      2\u001b[0m \u001b[0;31m# update distribution by realtime data of train arrival at the stop\u001b[0m\u001b[0;34m\u001b[0m\u001b[0;34m\u001b[0m\u001b[0m\n\u001b[1;32m      3\u001b[0m \u001b[0mpmf_z\u001b[0m\u001b[0;34m.\u001b[0m\u001b[0mUpdateSet\u001b[0m\u001b[0;34m(\u001b[0m\u001b[0;34m[\u001b[0m\u001b[0;36m2\u001b[0m\u001b[0;34m,\u001b[0m \u001b[0;36m6\u001b[0m\u001b[0;34m,\u001b[0m \u001b[0;36m7\u001b[0m\u001b[0;34m]\u001b[0m\u001b[0;34m)\u001b[0m\u001b[0;34m\u001b[0m\u001b[0m\n\u001b[1;32m      4\u001b[0m \u001b[0mwtc\u001b[0m \u001b[0;34m=\u001b[0m \u001b[0mWaitTimeCalculator\u001b[0m\u001b[0;34m(\u001b[0m\u001b[0mpmf_z\u001b[0m\u001b[0;34m=\u001b[0m\u001b[0mpmf_z\u001b[0m\u001b[0;34m)\u001b[0m\u001b[0;34m\u001b[0m\u001b[0m\n",
      "\u001b[0;31mTypeError\u001b[0m: Can't instantiate abstract class Suite with abstract methods Likelihood"
     ]
    }
   ],
   "source": [
    "# implementation from https://github.com/AllenDowney/ThinkBayes/blob/master/code/redline.py\n",
    "# data from "
   ]
  },
  {
   "cell_type": "markdown",
   "metadata": {},
   "source": [
    "# Exercise 3\n",
    "Suppose that you are an ecologist sampling the insect population in a new environment. You deploy 100 traps in a test area and come back the next day to check on them. You find that 37 traps have been triggered, trapping an insect\n",
    "inside. Once a trap triggers, it cannot trap another insect until it has been reset.\n",
    "\n",
    "If you reset the traps and come back in two days, how many traps do you expect to find triggered? Compute a posterior predictive distribution for the number of traps."
   ]
  },
  {
   "cell_type": "code",
   "execution_count": null,
   "metadata": {},
   "outputs": [],
   "source": []
  },
  {
   "cell_type": "markdown",
   "metadata": {},
   "source": [
    "# Exercise 4\n",
    "Suppose you are the manager of an apartment building with 100 light bulbs in common areas. It is your responsibility to replace light bulbs when they break.\n",
    "\n",
    "On January 1, all 100 bulbs are working. When you inspect them on February 1, you find 3 light bulbs out. If you come back on April 1, how many light bulbs do you expect to find broken?\n",
    "\n",
    "In the previous exercise, you could reasonably assume that an event is equally likely at any time. For light bulbs, the likelihood of failure depends on the age of the bulb. Specifically, old bulbs have an increasing failure rate due to evaporation of the filament.\n",
    "\n",
    "This problem is more open-ended than some; you will have to make modeling decisions. You might want to read about the Weibull distribution (http: // en.wikipedia. org/ wiki/ Weibull_ distribution ). Or you might want to look around for information about light bulb survival curves."
   ]
  },
  {
   "cell_type": "code",
   "execution_count": null,
   "metadata": {},
   "outputs": [],
   "source": []
  }
 ],
 "metadata": {
  "kernelspec": {
   "display_name": "Python 3",
   "language": "python",
   "name": "python3"
  },
  "language_info": {
   "codemirror_mode": {
    "name": "ipython",
    "version": 3
   },
   "file_extension": ".py",
   "mimetype": "text/x-python",
   "name": "python",
   "nbconvert_exporter": "python",
   "pygments_lexer": "ipython3",
   "version": "3.6.4"
  }
 },
 "nbformat": 4,
 "nbformat_minor": 2
}
