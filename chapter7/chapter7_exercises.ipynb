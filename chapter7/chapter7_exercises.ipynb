{
 "cells": [
  {
   "cell_type": "code",
   "execution_count": 1,
   "metadata": {},
   "outputs": [],
   "source": [
    "import sys\n",
    "sys.path.append(\"../library\")"
   ]
  },
  {
   "cell_type": "code",
   "execution_count": 2,
   "metadata": {},
   "outputs": [],
   "source": [
    "import math\n",
    "# import columns.py for csv processing\n",
    "from columns import read_csv, write_csv\n",
    "from __future__ import print_function, division\n",
    "from thinkbayes2 import Suite, Pmf, Mean, MeanVar, EvalPoissonPmf, \\\n",
    "    MakeCdfFromList, MakeNormalPmf, MakeMixture, MakePoissonPmf, MakeExponentialPmf, MakeUniformPmf, \\\n",
    "    PmfProbLess, PmfProbEqual\n",
    "import thinkplot"
   ]
  },
  {
   "cell_type": "markdown",
   "metadata": {},
   "source": [
    "# Exercise 1\n",
    "If buses arrive at a bus stop every 20 minutes, and you arrive at the bus stop at a random time, your wait time until the bus arrives is uniformly distributed from 0 to 20 minutes.\n",
    "\n",
    "But in reality, there is variability in the time between buses. Suppose you are waiting for a bus, and you know **the historical distribution of time between buses.**\n",
    "Compute your distribution of wait times.\n",
    "\n",
    "Hint: Suppose that the time between buses is either 5 or 10 minutes with equal probability. What is the probability that you arrive during one of the 10 minute intervals?"
   ]
  },
  {
   "cell_type": "code",
   "execution_count": 3,
   "metadata": {},
   "outputs": [],
   "source": [
    "# supposed the historical distribution of time between buses is pmf_zb\n",
    "def PmfOfWaitTime(pmf_zb: Pmf):\n",
    "    \"\"\"\n",
    "    To estimate waiting time distribution based on distribution of time between buses.\n",
    "    Arguments:\n",
    "        1, pmf_zb: the historical distribution of time between buses\n",
    "    Return:\n",
    "        distribution of waiting time of buses\n",
    "    \"\"\"\n",
    "    metapmf = Pmf()\n",
    "    for gap, prob in pmf_zb.Items():\n",
    "        uniform = MakeUniformPmf(0, gap)\n",
    "        metapmf.Set(uniform, prob)\n",
    "    pmf_y = MakeMixture(metapmf)\n",
    "    return pmf_y"
   ]
  }
 ],
 "metadata": {
  "kernelspec": {
   "display_name": "Python 3",
   "language": "python",
   "name": "python3"
  },
  "language_info": {
   "codemirror_mode": {
    "name": "ipython",
    "version": 3
   },
   "file_extension": ".py",
   "mimetype": "text/x-python",
   "name": "python",
   "nbconvert_exporter": "python",
   "pygments_lexer": "ipython3",
   "version": "3.6.4"
  }
 },
 "nbformat": 4,
 "nbformat_minor": 2
}
