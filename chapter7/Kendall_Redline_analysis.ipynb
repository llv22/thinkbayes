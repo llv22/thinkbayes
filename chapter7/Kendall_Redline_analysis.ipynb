{
 "cells": [
  {
   "cell_type": "code",
   "execution_count": 1,
   "metadata": {},
   "outputs": [],
   "source": [
    "import pandas as pd\n",
    "from datetime import datetime, timedelta, date, time"
   ]
  },
  {
   "cell_type": "code",
   "execution_count": 2,
   "metadata": {},
   "outputs": [
    {
     "data": {
      "text/html": [
       "<div>\n",
       "<style>\n",
       "    .dataframe thead tr:only-child th {\n",
       "        text-align: right;\n",
       "    }\n",
       "\n",
       "    .dataframe thead th {\n",
       "        text-align: left;\n",
       "    }\n",
       "\n",
       "    .dataframe tbody tr th {\n",
       "        vertical-align: top;\n",
       "    }\n",
       "</style>\n",
       "<table border=\"1\" class=\"dataframe\">\n",
       "  <thead>\n",
       "    <tr style=\"text-align: right;\">\n",
       "      <th></th>\n",
       "      <th>schedule_id</th>\n",
       "      <th>drop_off_type</th>\n",
       "      <th>pickup_type</th>\n",
       "      <th>date</th>\n",
       "      <th>arrival_time</th>\n",
       "      <th>departure_time</th>\n",
       "    </tr>\n",
       "  </thead>\n",
       "  <tbody>\n",
       "    <tr>\n",
       "      <th>0</th>\n",
       "      <td>schedule-35448490-L-70071-50</td>\n",
       "      <td>0</td>\n",
       "      <td>0</td>\n",
       "      <td>2018-03-07</td>\n",
       "      <td>2018-03-07 21:04:00</td>\n",
       "      <td>2018-03-07 21:04:00</td>\n",
       "    </tr>\n",
       "    <tr>\n",
       "      <th>1</th>\n",
       "      <td>schedule-35826851-2231-1</td>\n",
       "      <td>1</td>\n",
       "      <td>0</td>\n",
       "      <td>2018-03-07</td>\n",
       "      <td>2018-03-07 21:05:00</td>\n",
       "      <td>2018-03-07 21:05:00</td>\n",
       "    </tr>\n",
       "    <tr>\n",
       "      <th>2</th>\n",
       "      <td>schedule-35448429-L-70071-50</td>\n",
       "      <td>0</td>\n",
       "      <td>0</td>\n",
       "      <td>2018-03-07</td>\n",
       "      <td>2018-03-07 21:09:00</td>\n",
       "      <td>2018-03-07 21:09:00</td>\n",
       "    </tr>\n",
       "    <tr>\n",
       "      <th>3</th>\n",
       "      <td>schedule-35826968-2231-1</td>\n",
       "      <td>1</td>\n",
       "      <td>0</td>\n",
       "      <td>2018-03-07</td>\n",
       "      <td>2018-03-07 21:13:00</td>\n",
       "      <td>2018-03-07 21:13:00</td>\n",
       "    </tr>\n",
       "    <tr>\n",
       "      <th>4</th>\n",
       "      <td>schedule-35448491-L-70071-50</td>\n",
       "      <td>0</td>\n",
       "      <td>0</td>\n",
       "      <td>2018-03-07</td>\n",
       "      <td>2018-03-07 21:14:00</td>\n",
       "      <td>2018-03-07 21:14:00</td>\n",
       "    </tr>\n",
       "  </tbody>\n",
       "</table>\n",
       "</div>"
      ],
      "text/plain": [
       "                    schedule_id  drop_off_type  pickup_type        date  \\\n",
       "0  schedule-35448490-L-70071-50              0            0  2018-03-07   \n",
       "1      schedule-35826851-2231-1              1            0  2018-03-07   \n",
       "2  schedule-35448429-L-70071-50              0            0  2018-03-07   \n",
       "3      schedule-35826968-2231-1              1            0  2018-03-07   \n",
       "4  schedule-35448491-L-70071-50              0            0  2018-03-07   \n",
       "\n",
       "         arrival_time      departure_time  \n",
       "0 2018-03-07 21:04:00 2018-03-07 21:04:00  \n",
       "1 2018-03-07 21:05:00 2018-03-07 21:05:00  \n",
       "2 2018-03-07 21:09:00 2018-03-07 21:09:00  \n",
       "3 2018-03-07 21:13:00 2018-03-07 21:13:00  \n",
       "4 2018-03-07 21:14:00 2018-03-07 21:14:00  "
      ]
     },
     "execution_count": 2,
     "metadata": {},
     "output_type": "execute_result"
    }
   ],
   "source": [
    "kendall_redline_df = pd.read_csv(\"redline.csv.gz\", compression='gzip', parse_dates=['arrival_time', 'departure_time'])\n",
    "kendall_redline_df.head(5)"
   ]
  },
  {
   "cell_type": "code",
   "execution_count": 3,
   "metadata": {},
   "outputs": [
    {
     "name": "stdout",
     "output_type": "stream",
     "text": [
      "Average schedule number:  38.0\n",
      "Average schedule number (per hour):  19.0\n"
     ]
    }
   ],
   "source": [
    "startdate = datetime.strptime('2018-03-07', '%Y-%m-%d').date()\n",
    "enddate = datetime.strptime('2018-03-16', '%Y-%m-%d').date()\n",
    "dates_range = [startdate + timedelta(days=x) for x in range(0, (enddate - startdate).days)]\n",
    "print(\"Average schedule number: \", len(kendall_redline_df) / len(dates_range))\n",
    "mintime = datetime.strptime('16:00', '%H:%M')\n",
    "maxtime = datetime.strptime('18:00', '%H:%M')\n",
    "hour_difference = (maxtime - mintime).seconds / 3600\n",
    "print(\"Average schedule number (per hour): \", len(kendall_redline_df) / (len(dates_range) * hour_difference) )"
   ]
  },
  {
   "cell_type": "code",
   "execution_count": 4,
   "metadata": {},
   "outputs": [
    {
     "name": "stdout",
     "output_type": "stream",
     "text": [
      "[1.0, 4.0, 4.0, 1.0, 3.0, 1.0, 2.0, 3.0, 4.0, 6.0, 2.0, 2.0, 5.0, 2.0, 2.0, 4.0, 3.0, 1.0, 4.0, 2.0, 0.0, 2.0, 4.0, 3.0, 1.0, 4.0, 3.0, 3.0, 4.0, 4.0, 2.0, 2.0, 2.0, 2.0, 2.0, 3.0, 4.0, 0.0, 4.0, 4.0, 5.0, 1.0, 1.0, 1.0, 4.0, 4.0, 1.0, 3.0, 1.0, 2.0, 3.0, 4.0, 6.0, 2.0, 2.0, 5.0, 2.0, 2.0, 4.0, 3.0, 1.0, 4.0, 2.0, 0.0, 2.0, 4.0, 3.0, 1.0, 4.0, 3.0, 3.0, 4.0, 4.0, 2.0, 2.0, 2.0, 2.0, 2.0, 3.0, 4.0, 0.0, 4.0, 4.0, 5.0, 1.0, 1.0, 1.0, 4.0, 4.0, 1.0, 3.0, 1.0, 2.0, 3.0, 4.0, 6.0, 2.0, 2.0, 5.0, 2.0, 2.0, 4.0, 3.0, 1.0, 4.0, 2.0, 0.0, 2.0, 4.0, 3.0, 1.0, 4.0, 3.0, 3.0, 4.0, 4.0, 2.0, 2.0, 2.0, 2.0, 2.0, 3.0, 4.0, 0.0, 4.0, 4.0, 5.0, 1.0, 1.0, 7.0, 7.0, 6.0, 7.0, 7.0, 7.0, 6.0, 7.0, 7.0, 7.0, 6.0, 7.0, 7.0, 7.0, 6.0, 7.0, 7.0, 7.0, 8.0, 7.0, 8.0, 7.0, 8.0, 7.0, 8.0, 7.0, 8.0, 7.0, 8.0, 7.0, 8.0, 7.0, 1.0, 4.0, 4.0, 1.0, 3.0, 1.0, 2.0, 3.0, 4.0, 6.0, 2.0, 2.0, 5.0, 2.0, 2.0, 4.0, 3.0, 1.0, 4.0, 2.0, 0.0, 2.0, 4.0, 3.0, 1.0, 4.0, 3.0, 3.0, 4.0, 4.0, 2.0, 2.0, 2.0, 2.0, 2.0, 3.0, 4.0, 0.0, 4.0, 4.0, 5.0, 1.0, 1.0, 1.0, 4.0, 4.0, 1.0, 3.0, 1.0, 2.0, 3.0, 4.0, 6.0, 2.0, 2.0, 5.0, 2.0, 2.0, 4.0, 3.0, 1.0, 4.0, 2.0, 0.0, 2.0, 4.0, 3.0, 1.0, 4.0, 3.0, 3.0, 4.0, 4.0, 2.0, 2.0, 2.0, 2.0, 2.0, 3.0, 4.0, 0.0, 4.0, 4.0, 5.0, 1.0, 1.0, 1.0, 4.0, 4.0, 1.0, 3.0, 1.0, 2.0, 3.0, 4.0, 6.0, 2.0, 2.0, 5.0, 2.0, 2.0, 4.0, 3.0, 1.0, 4.0, 2.0, 0.0, 2.0, 4.0, 3.0, 1.0, 4.0, 3.0, 3.0, 4.0, 4.0, 2.0, 2.0, 2.0, 2.0, 2.0, 3.0, 4.0, 0.0, 4.0, 4.0, 5.0, 1.0, 1.0, 1.0, 4.0, 4.0, 1.0, 3.0, 1.0, 2.0, 3.0, 4.0, 6.0, 2.0, 2.0, 5.0, 2.0, 2.0, 4.0, 3.0, 1.0, 4.0, 2.0, 0.0, 2.0, 4.0, 3.0, 1.0, 4.0, 3.0, 3.0, 4.0, 4.0, 2.0, 2.0, 2.0, 2.0, 2.0, 3.0, 4.0, 0.0, 4.0, 4.0, 5.0, 1.0, 1.0]\n"
     ]
    }
   ],
   "source": [
    "# group by 'date' then calculate the gap between\n",
    "def readSublineGaps(kendall_redline_path:str = 'redline.csv.gz'):\n",
    "    kendall_redline_df = pd.read_csv(\"redline.csv.gz\", compression='gzip', parse_dates=['arrival_time', 'departure_time'])\n",
    "    subline_gaps = []\n",
    "    for date_ in kendall_redline_df['date'].unique():\n",
    "        arrival_times = kendall_redline_df[kendall_redline_df['date'] == date_][['arrival_time']]\n",
    "        for i in range(len(arrival_times) - 1):\n",
    "            difference = arrival_times.iloc[i+1].arrival_time - arrival_times.iloc[i].arrival_time\n",
    "            subline_gaps.append(difference.seconds / 60)\n",
    "    return subline_gaps\n",
    "\n",
    "gaps = readSublineGaps(kendall_redline_df)\n",
    "print(gaps)"
   ]
  }
 ],
 "metadata": {
  "kernelspec": {
   "display_name": "Python 3",
   "language": "python",
   "name": "python3"
  },
  "language_info": {
   "codemirror_mode": {
    "name": "ipython",
    "version": 3
   },
   "file_extension": ".py",
   "mimetype": "text/x-python",
   "name": "python",
   "nbconvert_exporter": "python",
   "pygments_lexer": "ipython3",
   "version": "3.6.4"
  }
 },
 "nbformat": 4,
 "nbformat_minor": 2
}
