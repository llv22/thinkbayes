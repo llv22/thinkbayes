{
 "cells": [
  {
   "cell_type": "code",
   "execution_count": 1,
   "metadata": {},
   "outputs": [],
   "source": [
    "import sys\n",
    "sys.path.append(\"../library\")"
   ]
  },
  {
   "cell_type": "code",
   "execution_count": 2,
   "metadata": {},
   "outputs": [],
   "source": [
    "from __future__ import print_function\n",
    "from thinkbayes2 import Suite\n",
    "import thinkplot"
   ]
  },
  {
   "cell_type": "code",
   "execution_count": 3,
   "metadata": {},
   "outputs": [],
   "source": [
    "# perfectly balanced coin, refer to https://github.com/AllenDowney/ThinkBayes2/blob/master/code/euro.py\n",
    "class Euro(Suite):\n",
    "    def Likelihood(self, data, hypo):\n",
    "        x = hypo\n",
    "        if data == 'H':\n",
    "            return x / 100.0\n",
    "        else:\n",
    "            return 1 - x / 100.0"
   ]
  },
  {
   "cell_type": "code",
   "execution_count": 4,
   "metadata": {},
   "outputs": [],
   "source": [
    "def Summarize(suite):\n",
    "    \"\"\"\n",
    "    Prints summary statistics for the suite.\n",
    "    \"\"\"\n",
    "    # check if 50% probablity of balanced coin\n",
    "    print(suite.Prob(50))\n",
    "    # 1. Maximum Likelihood\n",
    "    print('Maximum Likelihood: ', suite.MaximumLikelihood())\n",
    "    # 2. Mean and Median\n",
    "    print('Mean: ', suite.Mean())\n",
    "    print('Median: ', suite.Percentile(50)) \n",
    "    print('5th: ', suite.Percentile(5)) \n",
    "    print('95th: ', suite.Percentile(95)) \n",
    "    # 3. Credible inverval\n",
    "    print('Credible inveral', suite.CredibleInterval(90))"
   ]
  },
  {
   "cell_type": "code",
   "execution_count": 5,
   "metadata": {},
   "outputs": [
    {
     "name": "stdout",
     "output_type": "stream",
     "text": [
      "0.020976526129544672\n",
      "Maximum Likelihood:  56\n",
      "Mean:  55.95238095238098\n",
      "Median:  56\n",
      "5th:  51\n",
      "95th:  61\n",
      "Credible inveral (51, 61)\n"
     ]
    }
   ],
   "source": [
    "Hx = 101\n",
    "suite = Euro(range(Hx))\n",
    "dataset = 'H' * 140 + 'T' * 110\n",
    "suite.UpdateSet(dataset)\n",
    "Summarize(suite)\n",
    "# if not include 50, then coin isn't perfectly balanced"
   ]
  },
  {
   "cell_type": "code",
   "execution_count": 6,
   "metadata": {},
   "outputs": [
    {
     "data": {
      "image/png": "[encoded data removed]",
      "text/plain": [
       "<matplotlib.figure.Figure at 0x110fbba90>"
      ]
     },
     "metadata": {},
     "output_type": "display_data"
    },
    {
     "data": {
      "text/plain": [
       "<matplotlib.figure.Figure at 0x1147ab358>"
      ]
     },
     "metadata": {},
     "output_type": "display_data"
    }
   ],
   "source": [
    "thinkplot.PrePlot(1)\n",
    "thinkplot.Pmf(suite, label='uniform')\n",
    "thinkplot.Show(xlabel='x', ylabel='probablity')"
   ]
  },
  {
   "cell_type": "code",
   "execution_count": 7,
   "metadata": {},
   "outputs": [],
   "source": [
    "# replace prior with triangle prior\n",
    "# perfectly balanced coin, refer to https://github.com/AllenDowney/ThinkBayes2/blob/master/code/euro.py\n",
    "class Euro1(Suite):\n",
    "    def __init__(self, hypos):\n",
    "        super().__init__(self)\n",
    "        for x in range(0, 51):\n",
    "            self.Set(x, x)\n",
    "        for x in range(51, 101):\n",
    "            self.Set(x, 100 - x)\n",
    "        self.Normalize()\n",
    "        \n",
    "    def Likelihood(self, data, hypo):\n",
    "        x = hypo\n",
    "        if data == 'H':\n",
    "            return x / 100.0\n",
    "        else:\n",
    "            return 1 - x / 100.0"
   ]
  },
  {
   "cell_type": "code",
   "execution_count": 8,
   "metadata": {},
   "outputs": [
    {
     "name": "stdout",
     "output_type": "stream",
     "text": [
      "0.02384753721469363\n",
      "Maximum Likelihood:  56\n",
      "Mean:  55.74349943859506\n",
      "Median:  56\n",
      "5th:  51\n",
      "95th:  61\n",
      "Credible inveral (51, 61)\n"
     ]
    }
   ],
   "source": [
    "Hx = 101\n",
    "suite = Euro1(range(Hx))\n",
    "dataset = 'H' * 140 + 'T' * 110\n",
    "suite.UpdateSet(dataset)\n",
    "Summarize(suite)"
   ]
  },
  {
   "cell_type": "code",
   "execution_count": 9,
   "metadata": {},
   "outputs": [
    {
     "data": {
      "image/png": "[encoded data removed]",
      "text/plain": [
       "<matplotlib.figure.Figure at 0x1148375c0>"
      ]
     },
     "metadata": {},
     "output_type": "display_data"
    },
    {
     "data": {
      "text/plain": [
       "<matplotlib.figure.Figure at 0x1147f5a20>"
      ]
     },
     "metadata": {},
     "output_type": "display_data"
    }
   ],
   "source": [
    "thinkplot.PrePlot(1)\n",
    "thinkplot.Pmf(suite, label='uniform')\n",
    "thinkplot.Show(xlabel='x', ylabel='probablity')"
   ]
  },
  {
   "cell_type": "code",
   "execution_count": 13,
   "metadata": {},
   "outputs": [],
   "source": [
    "# replace prior with triangle prior\n",
    "# perfectly balanced coin, refer to https://github.com/AllenDowney/ThinkBayes2/blob/master/code/euro.py\n",
    "# optimize with group power() function, instead of looping for each case of head, tail\n",
    "class Euro2(Suite):\n",
    "    def __init__(self, hypos):\n",
    "        super().__init__(self)\n",
    "        for x in range(0, 51):\n",
    "            self.Set(x, x)\n",
    "        for x in range(51, 101):\n",
    "            self.Set(x, 100 - x)\n",
    "        self.Normalize()\n",
    "        \n",
    "    def Likelihood(self, data, hypo):\n",
    "        \"\"\"\n",
    "        replace data with (heads, tails)\n",
    "        \"\"\"\n",
    "        x = hypo / 100.0\n",
    "        heads, tails = data\n",
    "        like = x ** heads * (1-x) ** tails\n",
    "        return like"
   ]
  },
  {
   "cell_type": "code",
   "execution_count": 14,
   "metadata": {},
   "outputs": [
    {
     "name": "stdout",
     "output_type": "stream",
     "text": [
      "0.005292169225214459\n",
      "Maximum Likelihood:  58\n",
      "Mean:  58.02692703565193\n",
      "Median:  58\n",
      "5th:  53\n",
      "95th:  63\n",
      "Credible inveral (53, 63)\n"
     ]
    }
   ],
   "source": [
    "Hx = 101\n",
    "suite = Euro2(range(Hx))\n",
    "heads, tails = 140, 100\n",
    "suite.Update((heads, tails))\n",
    "Summarize(suite)"
   ]
  },
  {
   "cell_type": "code",
   "execution_count": 15,
   "metadata": {},
   "outputs": [
    {
     "data": {
      "image/png": "[encoded data removed]",
      "text/plain": [
       "<matplotlib.figure.Figure at 0x1148a1748>"
      ]
     },
     "metadata": {},
     "output_type": "display_data"
    },
    {
     "data": {
      "text/plain": [
       "<matplotlib.figure.Figure at 0x114f75f28>"
      ]
     },
     "metadata": {},
     "output_type": "display_data"
    }
   ],
   "source": [
    "thinkplot.PrePlot(1)\n",
    "thinkplot.Pmf(suite, label='uniform')\n",
    "thinkplot.Show(xlabel='x', ylabel='probablity')"
   ]
  },
  {
   "cell_type": "code",
   "execution_count": 16,
   "metadata": {},
   "outputs": [],
   "source": [
    "# using beta distribution\n",
    "from thinkbayes2 import Beta"
   ]
  },
  {
   "cell_type": "code",
   "execution_count": 23,
   "metadata": {},
   "outputs": [
    {
     "name": "stdout",
     "output_type": "stream",
     "text": [
      "Mean for beta distribution: 0.5826446280991735\n",
      "Probablity for 50% of beta distribution: 0\n",
      "Median for beta distribution: 0.59\n",
      "Credible interval for beta distribution: (0.54000000000000004, 0.64000000000000001)\n"
     ]
    }
   ],
   "source": [
    "beta = Beta()\n",
    "beta.Update((140, 100))\n",
    "print(\"Mean for beta distribution: {}\".format(beta.Mean()))\n",
    "pmfBeta = beta.MakePmf()\n",
    "print(\"Probablity for 50% of beta distribution: {}\".format(pmfBeta.Prob(50)))\n",
    "cdfBeta = beta.MakeCdf()\n",
    "print(\"Median for beta distribution: {}\".format(cdfBeta.Percentile(50)))\n",
    "print(\"Credible interval for beta distribution: {}\".format(cdfBeta.ConfidenceInterval(90)))"
   ]
  },
  {
   "cell_type": "code",
   "execution_count": null,
   "metadata": {},
   "outputs": [],
   "source": []
  }
 ],
 "metadata": {
  "kernelspec": {
   "display_name": "Python 3",
   "language": "python",
   "name": "python3"
  },
  "language_info": {
   "codemirror_mode": {
    "name": "ipython",
    "version": 3
   },
   "file_extension": ".py",
   "mimetype": "text/x-python",
   "name": "python",
   "nbconvert_exporter": "python",
   "pygments_lexer": "ipython3",
   "version": "3.6.4"
  }
 },
 "nbformat": 4,
 "nbformat_minor": 2
}
