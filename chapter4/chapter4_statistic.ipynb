{
 "cells": [
  {
   "cell_type": "code",
   "execution_count": 1,
   "metadata": {},
   "outputs": [],
   "source": [
    "import sys\n",
    "sys.path.append(\"../library\")"
   ]
  },
  {
   "cell_type": "code",
   "execution_count": null,
   "metadata": {},
   "outputs": [],
   "source": [
    "from __future__ import print_function\n",
    "from thinkbayes2 import Suite\n",
    "import thinkplot"
   ]
  },
  {
   "cell_type": "code",
   "execution_count": 2,
   "metadata": {},
   "outputs": [],
   "source": [
    "# perfectly balanced coin, refer to https://github.com/AllenDowney/ThinkBayes2/blob/master/code/euro.py\n",
    "class Euro(Suite):\n",
    "    def Likelihood(self, data, hypo):\n",
    "        x = hypo\n",
    "        if data == 'H':\n",
    "            return x / 100.0\n",
    "        else:\n",
    "            return 1 - x / 100.0"
   ]
  },
  {
   "cell_type": "code",
   "execution_count": 3,
   "metadata": {},
   "outputs": [],
   "source": [
    "def Summarize(suite):\n",
    "    \"\"\"\n",
    "    Prints summary statistics for the suite.\n",
    "    \"\"\"\n",
    "    # check if 50% probablity of balanced coin\n",
    "    print(suite.Prob(50))\n",
    "    # 1. Maximum Likelihood\n",
    "    print('Maximum Likelihood: ', suite.MaximumLikelihood())\n",
    "    # 2. Mean and Median\n",
    "    print('Mean: ', suite.Mean())\n",
    "    print('Median: ', suite.Percentile(50)) \n",
    "    print('5th: ', suite.Percentile(5)) \n",
    "    print('95th: ', suite.Percentile(95)) \n",
    "    # 3. Credible inverval\n",
    "    print('Credible inveral', suite.CredibleInterval(90))"
   ]
  },
  {
   "cell_type": "code",
   "execution_count": 4,
   "metadata": {},
   "outputs": [
    {
     "name": "stdout",
     "output_type": "stream",
     "text": [
      "0.020976526129544672\n",
      "Maximum Likelihood:  56\n",
      "Mean:  55.95238095238098\n",
      "Median:  56\n",
      "5th:  51\n",
      "95th:  61\n",
      "Credible inveral (51, 61)\n"
     ]
    }
   ],
   "source": [
    "Hx = 101\n",
    "suite = Euro(range(Hx))\n",
    "dataset = 'H' * 140 + 'T' * 110\n",
    "suite.UpdateSet(dataset)\n",
    "Summarize(suite)\n",
    "# if not include 50, then coin isn't perfectly balanced"
   ]
  },
  {
   "cell_type": "code",
   "execution_count": 5,
   "metadata": {},
   "outputs": [
    {
     "data": {
      "image/png": "[encoded data removed]",
      "text/plain": [
       "<matplotlib.figure.Figure at 0x10da2ab38>"
      ]
     },
     "metadata": {},
     "output_type": "display_data"
    },
    {
     "data": {
      "text/plain": [
       "<matplotlib.figure.Figure at 0x10e1c0c88>"
      ]
     },
     "metadata": {},
     "output_type": "display_data"
    }
   ],
   "source": [
    "thinkplot.PrePlot(1)\n",
    "thinkplot.Pmf(suite, label='uniform')\n",
    "thinkplot.Show(xlabel='x', ylabel='probablity')"
   ]
  },
  {
   "cell_type": "code",
   "execution_count": null,
   "metadata": {},
   "outputs": [],
   "source": []
  }
 ],
 "metadata": {
  "kernelspec": {
   "display_name": "Python 3",
   "language": "python",
   "name": "python3"
  },
  "language_info": {
   "codemirror_mode": {
    "name": "ipython",
    "version": 3
   },
   "file_extension": ".py",
   "mimetype": "text/x-python",
   "name": "python",
   "nbconvert_exporter": "python",
   "pygments_lexer": "ipython3",
   "version": "3.6.4"
  }
 },
 "nbformat": 4,
 "nbformat_minor": 2
}
