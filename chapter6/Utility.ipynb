{
 "cells": [
  {
   "cell_type": "code",
   "execution_count": 1,
   "metadata": {},
   "outputs": [
    {
     "name": "stdout",
     "output_type": "stream",
     "text": [
      "[(1, 4), (2, 5), (3, 6)]\n",
      "[(1, 4), (2, 5), (3, 6)]\n",
      "[(1, 2, 3), (4, 5, 6)]\n"
     ]
    }
   ],
   "source": [
    "# sample of zip, refer to http://www.runoob.com/python/python-func-zip.html, take care here for python 3\n",
    "a = [1,2,3]\n",
    "b = [4,5,6]\n",
    "c = [4,5,6,7,8]\n",
    "zipped = list(zip(a,b))\n",
    "print(zipped)    # 打包为元组的列表\n",
    "print(list(zip(a,c)))              # 元素个数与最短的列表一致\n",
    "print(list(zip(*zipped)))         # 与 zip 相反，可理解为解压，返回二维矩阵式"
   ]
  },
  {
   "cell_type": "code",
   "execution_count": null,
   "metadata": {},
   "outputs": [],
   "source": []
  }
 ],
 "metadata": {
  "kernelspec": {
   "display_name": "Python 3",
   "language": "python",
   "name": "python3"
  },
  "language_info": {
   "codemirror_mode": {
    "name": "ipython",
    "version": 3
   },
   "file_extension": ".py",
   "mimetype": "text/x-python",
   "name": "python",
   "nbconvert_exporter": "python",
   "pygments_lexer": "ipython3",
   "version": "3.6.4"
  }
 },
 "nbformat": 4,
 "nbformat_minor": 2
}
